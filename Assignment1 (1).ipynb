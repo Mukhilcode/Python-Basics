{
 "cells": [
  {
   "cell_type": "code",
   "execution_count": 1,
   "id": "3b7f4e67-c247-4e25-8114-e8c0f968be3c",
   "metadata": {},
   "outputs": [],
   "source": [
    "# 1.\tWrite a Python program to print \"Hello Python\"?"
   ]
  },
  {
   "cell_type": "code",
   "execution_count": 2,
   "id": "e89dfc6b-8b45-47c9-ac53-92f607fbd999",
   "metadata": {},
   "outputs": [],
   "source": [
    "def HP():\n",
    "    print(\"Hello Python\")"
   ]
  },
  {
   "cell_type": "code",
   "execution_count": 3,
   "id": "cf46e5fa-32a9-4a30-8b74-7d5545f58bb2",
   "metadata": {},
   "outputs": [
    {
     "name": "stdout",
     "output_type": "stream",
     "text": [
      "Hello Python\n"
     ]
    }
   ],
   "source": [
    "HP()"
   ]
  },
  {
   "cell_type": "code",
   "execution_count": 4,
   "id": "4f932903-6360-4c17-ba89-98bebfa07110",
   "metadata": {},
   "outputs": [],
   "source": [
    "#2.\tWrite a Python program to do arithmetical operations addition and division.?"
   ]
  },
  {
   "cell_type": "code",
   "execution_count": 7,
   "id": "206bd779-fe75-4d9f-ae49-629e1006d832",
   "metadata": {},
   "outputs": [],
   "source": [
    "def arthimeticops(a,b):\n",
    "    try:\n",
    "        \n",
    "        c=a+b\n",
    "        d=a/b\n",
    "        print(\"addition value: \", c, \"& Division value :\", d)\n",
    "    except Exception as e:\n",
    "        print(str(e))"
   ]
  },
  {
   "cell_type": "code",
   "execution_count": 8,
   "id": "ddb99d91-a035-4fd3-8571-977260f5da56",
   "metadata": {},
   "outputs": [
    {
     "name": "stdout",
     "output_type": "stream",
     "text": [
      "addition value:  12 & Division value : 2.0\n"
     ]
    }
   ],
   "source": [
    "arthimeticops(8,4)"
   ]
  },
  {
   "cell_type": "code",
   "execution_count": 9,
   "id": "0e311090-1623-446d-992f-3fa63068064b",
   "metadata": {},
   "outputs": [],
   "source": [
    "#1.\tWrite a Python program to find the area of a triangle?"
   ]
  },
  {
   "cell_type": "code",
   "execution_count": 15,
   "id": "05b259aa-4530-4554-9654-d02d27ba259a",
   "metadata": {},
   "outputs": [],
   "source": [
    "def calculate_area_triangle(b,h):\n",
    "    try:\n",
    "        area=0.5*b*h\n",
    "        return (\"area of the triangle would be: \", area)\n",
    "    except Exception as e:\n",
    "        print(str(e))"
   ]
  },
  {
   "cell_type": "code",
   "execution_count": 17,
   "id": "ee8603e8-10b5-4af3-a1df-f5d610966f66",
   "metadata": {},
   "outputs": [
    {
     "data": {
      "text/plain": [
       "('area of the triangle would be: ', 20.0)"
      ]
     },
     "execution_count": 17,
     "metadata": {},
     "output_type": "execute_result"
    }
   ],
   "source": [
    "calculate_area_triangle(8,5)"
   ]
  },
  {
   "cell_type": "code",
   "execution_count": 18,
   "id": "f5aa9e9b-af92-461f-8115-dd1c7ccfac3f",
   "metadata": {},
   "outputs": [],
   "source": [
    "#3.\tWrite a Python program to swap two variables?"
   ]
  },
  {
   "cell_type": "code",
   "execution_count": 23,
   "id": "4157d082-5536-46ab-be7d-de967c0600dc",
   "metadata": {},
   "outputs": [],
   "source": [
    "def swap():\n",
    "    try:\n",
    "        a=int(input(\"enter the value of a: \"))\n",
    "        b=int(input(\"enter the value of b: \"))\n",
    "        temp=a\n",
    "        a=b\n",
    "        b=temp\n",
    "        return (\"Value of a & b after swap would be\",\"a:\",a,\"& b:\",b)\n",
    "    except Exception as e:\n",
    "        print(str(e))"
   ]
  },
  {
   "cell_type": "code",
   "execution_count": 24,
   "id": "adf51bce-0436-4392-ae15-9e5c874266dd",
   "metadata": {},
   "outputs": [
    {
     "name": "stdin",
     "output_type": "stream",
     "text": [
      "enter the value of a:  6\n",
      "enter the value of b:  2\n"
     ]
    },
    {
     "data": {
      "text/plain": [
       "('Value of a & b after swap would be', 'a:', 2, '& b:', 6)"
      ]
     },
     "execution_count": 24,
     "metadata": {},
     "output_type": "execute_result"
    }
   ],
   "source": [
    "swap()"
   ]
  },
  {
   "cell_type": "code",
   "execution_count": 25,
   "id": "a823c419-fc25-4de4-a8a1-69fcc1cb5d32",
   "metadata": {},
   "outputs": [],
   "source": [
    "# 4.\tWrite a Python program to generate a random number?"
   ]
  },
  {
   "cell_type": "code",
   "execution_count": 28,
   "id": "f61db04d-24de-46b0-befc-1f2a2654a1fa",
   "metadata": {},
   "outputs": [],
   "source": [
    "import random\n",
    "def random_number(a,b):\n",
    "    random_num=random.randint(a,b)\n",
    "    return (\"random no between a and b are:\", random_num)\n",
    "    "
   ]
  },
  {
   "cell_type": "code",
   "execution_count": 29,
   "id": "c431441d-4239-48b4-9262-268fa320f1b9",
   "metadata": {},
   "outputs": [
    {
     "data": {
      "text/plain": [
       "('random no between a and b are:', 79)"
      ]
     },
     "execution_count": 29,
     "metadata": {},
     "output_type": "execute_result"
    }
   ],
   "source": [
    "random_number(2,90)"
   ]
  },
  {
   "cell_type": "code",
   "execution_count": 30,
   "id": "8dd09fd4-97b3-439d-8e26-ad77581e6b3d",
   "metadata": {},
   "outputs": [
    {
     "data": {
      "text/plain": [
       "('random no between a and b are:', 35)"
      ]
     },
     "execution_count": 30,
     "metadata": {},
     "output_type": "execute_result"
    }
   ],
   "source": [
    "random_number(2,90)"
   ]
  },
  {
   "cell_type": "code",
   "execution_count": null,
   "id": "89c49d92-bf34-4aac-a6e2-460ed8ec717f",
   "metadata": {},
   "outputs": [],
   "source": []
  }
 ],
 "metadata": {
  "kernelspec": {
   "display_name": "Python 3 (ipykernel)",
   "language": "python",
   "name": "python3"
  },
  "language_info": {
   "codemirror_mode": {
    "name": "ipython",
    "version": 3
   },
   "file_extension": ".py",
   "mimetype": "text/x-python",
   "name": "python",
   "nbconvert_exporter": "python",
   "pygments_lexer": "ipython3",
   "version": "3.10.6"
  }
 },
 "nbformat": 4,
 "nbformat_minor": 5
}
