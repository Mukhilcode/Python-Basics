{
 "cells": [
  {
   "cell_type": "code",
   "execution_count": 1,
   "id": "35f73b9d",
   "metadata": {},
   "outputs": [
    {
     "data": {
      "text/plain": [
       "'\\n1. Write a function that takes a list of lists and returns the value of all of the symbols in it, where each symbol adds or takes something from the total score. Symbol values:\\n\\n# = 5\\nO = 3\\nX = 1\\n! = -1\\n!! = -3\\n!!! = -5\\n\\nA list of lists containing 2 #s, a O, and a !!! would equal (0 + 5 + 5 + 3 - 5) 8.\\n\\nIf the final score is negative, return 0 (e.g. 3 #s, 3 !!s, 2 !!!s and a X would be (0 + 5 + 5 + 5 - 3 - 3 - 3 - 5 - 5 + 1) -3, so return 0.\\n\\nExamples\\n\\ncheck_score([\\n  [\"#\", \"!\"],\\n  [\"!!\", \"X\"]\\n]) ➞ 2\\n\\ncheck_score([\\n  [\"!!!\", \"O\", \"!\"],\\n  [\"X\", \"#\", \"!!!\"],\\n  [\"!!\", \"X\", \"O\"]\\n]) ➞ 0\\n\\n\\n'"
      ]
     },
     "execution_count": 1,
     "metadata": {},
     "output_type": "execute_result"
    }
   ],
   "source": [
    "\"\"\"\n",
    "1. Write a function that takes a list of lists and returns the value of all of the symbols in it, where each symbol adds or takes something from the total score. Symbol values:\n",
    "\n",
    "# = 5\n",
    "O = 3\n",
    "X = 1\n",
    "! = -1\n",
    "!! = -3\n",
    "!!! = -5\n",
    "\n",
    "A list of lists containing 2 #s, a O, and a !!! would equal (0 + 5 + 5 + 3 - 5) 8.\n",
    "\n",
    "If the final score is negative, return 0 (e.g. 3 #s, 3 !!s, 2 !!!s and a X would be (0 + 5 + 5 + 5 - 3 - 3 - 3 - 5 - 5 + 1) -3, so return 0.\n",
    "\n",
    "Examples\n",
    "\n",
    "check_score([\n",
    "  [\"#\", \"!\"],\n",
    "  [\"!!\", \"X\"]\n",
    "]) ➞ 2\n",
    "\n",
    "check_score([\n",
    "  [\"!!!\", \"O\", \"!\"],\n",
    "  [\"X\", \"#\", \"!!!\"],\n",
    "  [\"!!\", \"X\", \"O\"]\n",
    "]) ➞ 0\n",
    "\n",
    "\n",
    "\"\"\""
   ]
  },
  {
   "cell_type": "code",
   "execution_count": 21,
   "id": "2860d674",
   "metadata": {},
   "outputs": [],
   "source": [
    "def check_score(list1):\n",
    "    symbol = {'#': 5, 'O': 3, 'X': 1, '!': -1, '!!': -3, '!!!': -5}\n",
    "    try:\n",
    "        count = 0\n",
    "        for i in list1:\n",
    "            for j in i:\n",
    "                if j in symbol:\n",
    "                    count += symbol[j]\n",
    "\n",
    "        return max(0, count)\n",
    "    except Exception as e:\n",
    "        print(str(e))\n",
    "\n"
   ]
  },
  {
   "cell_type": "code",
   "execution_count": 22,
   "id": "cac4408c",
   "metadata": {},
   "outputs": [
    {
     "name": "stdout",
     "output_type": "stream",
     "text": [
      "2\n"
     ]
    }
   ],
   "source": [
    "print(check_score([\n",
    "    ['#', '!'],\n",
    "    ['!!', 'X']\n",
    "]))"
   ]
  },
  {
   "cell_type": "code",
   "execution_count": 7,
   "id": "98a21c05",
   "metadata": {},
   "outputs": [
    {
     "data": {
      "text/plain": [
       "'2. Create a function that takes a variable number of arguments, each argument representing the number of items in a group, and returns the number of permutations (combinations) of items that you could get by taking one item from each group.\\n\\nExamples\\n\\ncombinations(2, 3) ➞ 6\\n\\ncombinations(3, 7, 4) ➞ 84\\n\\ncombinations(2, 3, 4, 5) ➞ 120\\n\\n'"
      ]
     },
     "execution_count": 7,
     "metadata": {},
     "output_type": "execute_result"
    }
   ],
   "source": [
    "\"\"\"2. Create a function that takes a variable number of arguments, each argument representing the number of items in a group, and returns the number of permutations (combinations) of items that you could get by taking one item from each group.\n",
    "\n",
    "Examples\n",
    "\n",
    "combinations(2, 3) ➞ 6\n",
    "\n",
    "combinations(3, 7, 4) ➞ 84\n",
    "\n",
    "combinations(2, 3, 4, 5) ➞ 120\n",
    "\n",
    "\"\"\""
   ]
  },
  {
   "cell_type": "code",
   "execution_count": null,
   "id": "527ee906",
   "metadata": {},
   "outputs": [],
   "source": []
  },
  {
   "cell_type": "code",
   "execution_count": 11,
   "id": "284e1936",
   "metadata": {},
   "outputs": [],
   "source": [
    "def combination(*args):\n",
    "    count=1\n",
    "    for i in args:\n",
    "        count *=i\n",
    "    return count\n",
    "\n",
    "    "
   ]
  },
  {
   "cell_type": "code",
   "execution_count": 12,
   "id": "02e21606",
   "metadata": {},
   "outputs": [
    {
     "data": {
      "text/plain": [
       "240"
      ]
     },
     "execution_count": 12,
     "metadata": {},
     "output_type": "execute_result"
    }
   ],
   "source": [
    "combination(1,2,4,5,6)"
   ]
  },
  {
   "cell_type": "code",
   "execution_count": 13,
   "id": "89b78d35",
   "metadata": {},
   "outputs": [
    {
     "data": {
      "text/plain": [
       "'3. Create a function that takes a string as an argument and returns the Morse code equivalent.\\n\\nExamples\\n\\nencode_morse(\"EDABBIT CHALLENGE\") ➞ \". -.. .- -... -... .. -   -.-. .... .- .-.. .-.. . -. --. .\"\\n\\nencode_morse(\"HELP ME !\") ➞ \".... . .-.. .--.   -- .   -.-.--\"\\n\\nThis dictionary can be used for coding:\\n\\nchar_to_dots = {\\n  \\'A\\': \\'.-\\', \\'B\\': \\'-...\\', \\'C\\': \\'-.-.\\', \\'D\\': \\'-..\\', \\'E\\': \\'.\\', \\'F\\': \\'..-.\\',\\n  \\'G\\': \\'--.\\', \\'H\\': \\'....\\', \\'I\\': \\'..\\', \\'J\\': \\'.---\\', \\'K\\': \\'-.-\\', \\'L\\': \\'.-..\\',\\n  \\'M\\': \\'--\\', \\'N\\': \\'-.\\', \\'O\\': \\'---\\', \\'P\\': \\'.--.\\', \\'Q\\': \\'--.-\\', \\'R\\': \\'.-.\\',\\n  \\'S\\': \\'...\\', \\'T\\': \\'-\\', \\'U\\': \\'..-\\', \\'V\\': \\'...-\\', \\'W\\': \\'.--\\', \\'X\\': \\'-..-\\',\\n  \\'Y\\': \\'-.--\\', \\'Z\\': \\'--..\\', \\' \\': \\' \\', \\'0\\': \\'-----\\',\\n  \\'1\\': \\'.----\\', \\'2\\': \\'..---\\', \\'3\\': \\'...--\\', \\'4\\': \\'....-\\', \\'5\\': \\'.....\\',\\n  \\'6\\': \\'-....\\', \\'7\\': \\'--...\\', \\'8\\': \\'---..\\', \\'9\\': \\'----.\\',\\n  \\'&\\': \\'.-...\\', \"\\'\": \\'.----.\\', \\'@\\': \\'.--.-.\\', \\')\\': \\'-.--.-\\', \\'(\\': \\'-.--.\\',\\n  \\':\\': \\'---...\\', \\',\\': \\'--..--\\', \\'=\\': \\'-...-\\', \\'!\\': \\'-.-.--\\', \\'.\\': \\'.-.-.-\\',\\n  \\'-\\': \\'-....-\\', \\'+\\': \\'.-.-.\\', \\'\"\\': \\'.-..-.\\', \\'?\\': \\'..--..\\', \\'/\\': \\'-..-.\\'\\n}\\n'"
      ]
     },
     "execution_count": 13,
     "metadata": {},
     "output_type": "execute_result"
    }
   ],
   "source": [
    "\"\"\"3. Create a function that takes a string as an argument and returns the Morse code equivalent.\n",
    "\n",
    "Examples\n",
    "\n",
    "encode_morse(\"EDABBIT CHALLENGE\") ➞ \". -.. .- -... -... .. -   -.-. .... .- .-.. .-.. . -. --. .\"\n",
    "\n",
    "encode_morse(\"HELP ME !\") ➞ \".... . .-.. .--.   -- .   -.-.--\"\n",
    "\n",
    "This dictionary can be used for coding:\n",
    "\n",
    "char_to_dots = {\n",
    "  'A': '.-', 'B': '-...', 'C': '-.-.', 'D': '-..', 'E': '.', 'F': '..-.',\n",
    "  'G': '--.', 'H': '....', 'I': '..', 'J': '.---', 'K': '-.-', 'L': '.-..',\n",
    "  'M': '--', 'N': '-.', 'O': '---', 'P': '.--.', 'Q': '--.-', 'R': '.-.',\n",
    "  'S': '...', 'T': '-', 'U': '..-', 'V': '...-', 'W': '.--', 'X': '-..-',\n",
    "  'Y': '-.--', 'Z': '--..', ' ': ' ', '0': '-----',\n",
    "  '1': '.----', '2': '..---', '3': '...--', '4': '....-', '5': '.....',\n",
    "  '6': '-....', '7': '--...', '8': '---..', '9': '----.',\n",
    "  '&': '.-...', \"'\": '.----.', '@': '.--.-.', ')': '-.--.-', '(': '-.--.',\n",
    "  ':': '---...', ',': '--..--', '=': '-...-', '!': '-.-.--', '.': '.-.-.-',\n",
    "  '-': '-....-', '+': '.-.-.', '\"': '.-..-.', '?': '..--..', '/': '-..-.'\n",
    "}\n",
    "\"\"\""
   ]
  },
  {
   "cell_type": "code",
   "execution_count": 25,
   "id": "a1253e12",
   "metadata": {},
   "outputs": [],
   "source": [
    "def encode_morse(string1):\n",
    "    char_to_dots = {'A': '.-', 'B': '-...', 'C': '-.-.', 'D': '-..', 'E': '.', 'F': '..-.',  'G': '--.', 'H': '....', 'I': '..',\n",
    "                    'J': '.---', 'K': '-.-', 'L': '.-..',  'M': '--', 'N': '-.', 'O': '---', 'P': '.--.', 'Q': '--.-', \n",
    "                    'R': '.-.','S': '...', 'T': '-', 'U': '..-', 'V': '...-', 'W': '.--', 'X': '-..-',  'Y': '-.--', \n",
    "                    'Z': '--..', ' ': ' ', '0': '-----','1': '.----', '2': '..---', '3': '...--', '4': '....-', '5': '.....',\n",
    "                    '6': '-....', '7': '--...', '8': '---..', '9': '----.','&': '.-...', \"'\": '.----.', \n",
    "                    '@': '.--.-.', ')': '-.--.-', '(': '-.--.',':': '---...', ',': '--..--', '=': '-...-', '!': '-.-.--', \n",
    "                    '.': '.-.-.-','-': '-....-', '+': '.-.-.', '\"': '.-..-.', '?': '..--..', '/': '-..-.'}\n",
    "    \n",
    "    m=[]\n",
    "    for i in string1.upper(): #to convert the string to upper case\n",
    "        if i in char_to_dots:\n",
    "            m += char_to_dots[i] + ' '\n",
    "                        \n",
    "        else:\n",
    "            m += \" \"\n",
    "            \n",
    "    return m\n",
    "            \n",
    "        \n",
    "    "
   ]
  },
  {
   "cell_type": "code",
   "execution_count": 27,
   "id": "635eb535",
   "metadata": {},
   "outputs": [
    {
     "name": "stdout",
     "output_type": "stream",
     "text": [
      "['-', '-', ' ', '-', '-', '-', ' ', '.', '-', '.', ' ', '.', '.', '.', ' ', '.', ' ', ' ', ' ', '-', '.', '-', '.', ' ', '.', '.', '.', '.', ' ', '.', '-', ' ', '.', '-', '.', '.', ' ', '.', '-', '.', '.', ' ', '.', ' ', '-', '.', ' ', '-', '-', '.', ' ', '.', ' ']\n"
     ]
    }
   ],
   "source": [
    "print(encode_morse(\"MORSE CHALLENGE\"))"
   ]
  },
  {
   "cell_type": "code",
   "execution_count": 28,
   "id": "98bfb69a",
   "metadata": {},
   "outputs": [
    {
     "data": {
      "text/plain": [
       "\"4.  Write a function that takes a number and returns True if it's a prime; False otherwise. The number can be 2^64-1 (2 to the power of 63, not XOR). With the standard technique it would be O(2^64-1), which is much too large for the 10 second time limit.\\n\\nExamples\\n\\nprime(7) ➞ True\\n\\nprime(56963) ➞ True\\n\\nprime(5151512515524) ➞ False\\n\\n\""
      ]
     },
     "execution_count": 28,
     "metadata": {},
     "output_type": "execute_result"
    }
   ],
   "source": [
    "\"\"\"4.  Write a function that takes a number and returns True if it's a prime; False otherwise. The number can be 2^64-1 (2 to the power of 63, not XOR). With the standard technique it would be O(2^64-1), which is much too large for the 10 second time limit.\n",
    "\n",
    "Examples\n",
    "\n",
    "prime(7) ➞ True\n",
    "\n",
    "prime(56963) ➞ True\n",
    "\n",
    "prime(5151512515524) ➞ False\n",
    "\n",
    "\"\"\""
   ]
  },
  {
   "cell_type": "code",
   "execution_count": 29,
   "id": "c51663b5",
   "metadata": {},
   "outputs": [],
   "source": [
    "def is_prime(n):\n",
    "    if n < 2:\n",
    "        return False\n",
    "    if n == 2:\n",
    "        return True\n",
    "    if n % 2 == 0:\n",
    "        return False\n",
    "\n",
    "    # Check odd divisors up to the square root of n\n",
    "    for i in range(3, int(n**0.5) + 1, 2):\n",
    "        if n % i == 0:\n",
    "            return False\n",
    "\n",
    "    return True"
   ]
  },
  {
   "cell_type": "code",
   "execution_count": 32,
   "id": "cf69394a",
   "metadata": {},
   "outputs": [
    {
     "data": {
      "text/plain": [
       "True"
      ]
     },
     "execution_count": 32,
     "metadata": {},
     "output_type": "execute_result"
    }
   ],
   "source": [
    "is_prime(5^2)"
   ]
  },
  {
   "cell_type": "code",
   "execution_count": 35,
   "id": "00c9519c",
   "metadata": {},
   "outputs": [
    {
     "data": {
      "text/plain": [
       "'5.  Create a function that converts a word to a bitstring and then to a boolean list based on the following criteria:\\n\\n    1. Locate the position of the letter in the English alphabet (from 1 to 26).\\n    2. Odd positions will be represented as 1 and 0 otherwise.\\n    3. Convert the represented positions to boolean values, 1 for True and 0 for False.\\n    4. Store the conversions into an array.\\n\\n Examples\\n\\nto_boolean_list(\"deep\") ➞ [False, True, True, False]\\n# deep converts to 0110\\n# d is the 4th alphabet - 0\\n# e is the 5th alphabet - 1\\n# e is the 5th alphabet - 1\\n# p is the 16th alphabet - 0\\n\\nto_boolean_list(\"loves\") ➞ [False, True, False, True, True]\\n\\nto_boolean_list(\"tesh\") ➞ [False, True, True, False]\\n\\n'"
      ]
     },
     "execution_count": 35,
     "metadata": {},
     "output_type": "execute_result"
    }
   ],
   "source": [
    "\"\"\"5.  Create a function that converts a word to a bitstring and then to a boolean list based on the following criteria:\n",
    "\n",
    "    1. Locate the position of the letter in the English alphabet (from 1 to 26).\n",
    "    2. Odd positions will be represented as 1 and 0 otherwise.\n",
    "    3. Convert the represented positions to boolean values, 1 for True and 0 for False.\n",
    "    4. Store the conversions into an array.\n",
    "\n",
    " Examples\n",
    "\n",
    "to_boolean_list(\"deep\") ➞ [False, True, True, False]\n",
    "# deep converts to 0110\n",
    "# d is the 4th alphabet - 0\n",
    "# e is the 5th alphabet - 1\n",
    "# e is the 5th alphabet - 1\n",
    "# p is the 16th alphabet - 0\n",
    "\n",
    "to_boolean_list(\"loves\") ➞ [False, True, False, True, True]\n",
    "\n",
    "to_boolean_list(\"tesh\") ➞ [False, True, True, False]\n",
    "\n",
    "\"\"\"\n"
   ]
  },
  {
   "cell_type": "code",
   "execution_count": 37,
   "id": "38a640ce",
   "metadata": {},
   "outputs": [],
   "source": [
    "def to_boolean_list(word):\n",
    "    alphabet = \"abcdefghijklmnopqrstuvwxyz\"\n",
    "    result = []\n",
    "\n",
    "    for char in word:\n",
    "        position = alphabet.index(char.lower()) + 1\n",
    "        is_odd_position = position % 2 == 1\n",
    "        result.append(is_odd_position)\n",
    "\n",
    "    return result\n",
    "\n",
    "\n"
   ]
  },
  {
   "cell_type": "code",
   "execution_count": 38,
   "id": "de1e66fe",
   "metadata": {},
   "outputs": [
    {
     "name": "stdout",
     "output_type": "stream",
     "text": [
      "[False, True, True, False]\n"
     ]
    }
   ],
   "source": [
    "print(to_boolean_list(\"deep\")) "
   ]
  },
  {
   "cell_type": "code",
   "execution_count": null,
   "id": "33cfadac",
   "metadata": {},
   "outputs": [],
   "source": []
  }
 ],
 "metadata": {
  "kernelspec": {
   "display_name": "Python 3",
   "language": "python",
   "name": "python3"
  },
  "language_info": {
   "codemirror_mode": {
    "name": "ipython",
    "version": 3
   },
   "file_extension": ".py",
   "mimetype": "text/x-python",
   "name": "python",
   "nbconvert_exporter": "python",
   "pygments_lexer": "ipython3",
   "version": "3.8.8"
  }
 },
 "nbformat": 4,
 "nbformat_minor": 5
}
