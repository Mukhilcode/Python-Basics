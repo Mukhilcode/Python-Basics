{
 "cells": [
  {
   "cell_type": "code",
   "execution_count": 1,
   "id": "06f62a13",
   "metadata": {},
   "outputs": [],
   "source": [
    "#1.\tWrite a Python program to convert kilometers to miles?"
   ]
  },
  {
   "cell_type": "code",
   "execution_count": 10,
   "id": "33776eb0",
   "metadata": {},
   "outputs": [
    {
     "name": "stdout",
     "output_type": "stream",
     "text": [
      "enter the value in KM:23\n",
      "23.0 km is equal to 14.291533 miles\n"
     ]
    }
   ],
   "source": [
    "a=float(input(\"enter the value in KM:\"))\n",
    "b=0.621371\n",
    "c=a*b\n",
    "print( a,\"km is equal to\",c,\"miles\")"
   ]
  },
  {
   "cell_type": "code",
   "execution_count": 11,
   "id": "7018ac23",
   "metadata": {},
   "outputs": [],
   "source": [
    "#2.\tWrite a Python program to convert Celsius to Fahrenheit?"
   ]
  },
  {
   "cell_type": "code",
   "execution_count": 12,
   "id": "daa0df83",
   "metadata": {},
   "outputs": [
    {
     "name": "stdout",
     "output_type": "stream",
     "text": [
      "enter the celsius : 100\n",
      "100.0  celius is equal to  3379.9999999999995 farenheit\n"
     ]
    }
   ],
   "source": [
    "a=float(input(\"enter the celsius : \"))\n",
    "b=33.8\n",
    "c=a*b\n",
    "print(a,\" celius is equal to \",c,\"farenheit\")"
   ]
  },
  {
   "cell_type": "code",
   "execution_count": 13,
   "id": "9f2eed24",
   "metadata": {},
   "outputs": [],
   "source": [
    "#Write a Python program to display calendar?"
   ]
  },
  {
   "cell_type": "code",
   "execution_count": 14,
   "id": "108db6d0",
   "metadata": {},
   "outputs": [
    {
     "name": "stdout",
     "output_type": "stream",
     "text": [
      "Enter Year: \n",
      "2054\n",
      "\n",
      "Enter Month Number (1-12): \n",
      "3\n",
      "\n",
      "      March 2054\n",
      "Mo Tu We Th Fr Sa Su\n",
      "                   1\n",
      " 2  3  4  5  6  7  8\n",
      " 9 10 11 12 13 14 15\n",
      "16 17 18 19 20 21 22\n",
      "23 24 25 26 27 28 29\n",
      "30 31\n",
      "\n"
     ]
    }
   ],
   "source": [
    "import calendar\n",
    "\n",
    "print(\"Enter Year: \")\n",
    "yy = input()\n",
    "print(\"\\nEnter Month Number (1-12): \")\n",
    "mm = input()\n",
    "\n",
    "y = int(yy)\n",
    "m = int(mm)\n",
    "print(\"\\n\", calendar.month(y, m))"
   ]
  },
  {
   "cell_type": "code",
   "execution_count": 15,
   "id": "77389e14",
   "metadata": {},
   "outputs": [],
   "source": [
    "#Write a Python Program to Check if a Number is \n",
    "# Positive, Negative or Zero?\n"
   ]
  },
  {
   "cell_type": "code",
   "execution_count": 16,
   "id": "2ed808f8",
   "metadata": {},
   "outputs": [
    {
     "name": "stdout",
     "output_type": "stream",
     "text": [
      "enter a number: -34\n",
      "-34.0  its negative number \n"
     ]
    }
   ],
   "source": [
    "num=float(input(\"enter a number: \"))\n",
    "if num>=0:\n",
    "    print(num,\" its a positive number\")\n",
    "elif num==0:\n",
    "    print(num, \" its a zero\")\n",
    "else:\n",
    "    print(num,\" its negative number \")"
   ]
  },
  {
   "cell_type": "code",
   "execution_count": 9,
   "id": "e0c36eef",
   "metadata": {},
   "outputs": [],
   "source": [
    "def test(**kwargs):\n",
    "    print(\"this is my arg\",kwargs.items())"
   ]
  },
  {
   "cell_type": "code",
   "execution_count": 10,
   "id": "62a62b48",
   "metadata": {},
   "outputs": [
    {
     "name": "stdout",
     "output_type": "stream",
     "text": [
      "this is my arg dict_items([('a', 'sudh'), ('b', 56), ('c', 45.98)])\n"
     ]
    }
   ],
   "source": [
    "test(a=\"sudh\",b= 56,c=45.98)"
   ]
  },
  {
   "cell_type": "code",
   "execution_count": 15,
   "id": "b4e86a0b",
   "metadata": {},
   "outputs": [],
   "source": [
    "def test(name, email_id):\n",
    "    con=name+email_id\n",
    "    return email_id,name,con"
   ]
  },
  {
   "cell_type": "code",
   "execution_count": 16,
   "id": "3e8061cd",
   "metadata": {},
   "outputs": [
    {
     "data": {
      "text/plain": [
       "('killer@dak.com', 'muk', 'mukkiller@dak.com')"
      ]
     },
     "execution_count": 16,
     "metadata": {},
     "output_type": "execute_result"
    }
   ],
   "source": [
    "test(\"muk\", \"killer@dak.com\")"
   ]
  },
  {
   "cell_type": "code",
   "execution_count": 3,
   "id": "fc126d9f",
   "metadata": {},
   "outputs": [],
   "source": [
    "a=10\n",
    "b=10\n",
    "def test1(x,y):\n",
    "    return x+y"
   ]
  },
  {
   "cell_type": "code",
   "execution_count": 4,
   "id": "8ec3f65b",
   "metadata": {},
   "outputs": [
    {
     "data": {
      "text/plain": [
       "20"
      ]
     },
     "execution_count": 4,
     "metadata": {},
     "output_type": "execute_result"
    }
   ],
   "source": [
    "test1(a,b)"
   ]
  },
  {
   "cell_type": "code",
   "execution_count": 5,
   "id": "a2c1880f",
   "metadata": {},
   "outputs": [],
   "source": [
    "m=lambda x,y:x+y "
   ]
  },
  {
   "cell_type": "code",
   "execution_count": 6,
   "id": "006c8e43",
   "metadata": {},
   "outputs": [
    {
     "data": {
      "text/plain": [
       "20"
      ]
     },
     "execution_count": 6,
     "metadata": {},
     "output_type": "execute_result"
    }
   ],
   "source": [
    "m(a,b)"
   ]
  },
  {
   "cell_type": "code",
   "execution_count": 7,
   "id": "49cbb728",
   "metadata": {},
   "outputs": [
    {
     "data": {
      "text/plain": [
       "function"
      ]
     },
     "execution_count": 7,
     "metadata": {},
     "output_type": "execute_result"
    }
   ],
   "source": [
    "type(m)"
   ]
  },
  {
   "cell_type": "code",
   "execution_count": 8,
   "id": "768f2bfa",
   "metadata": {},
   "outputs": [
    {
     "data": {
      "text/plain": [
       "'mukhilmk@gmail.com'"
      ]
     },
     "execution_count": 8,
     "metadata": {},
     "output_type": "execute_result"
    }
   ],
   "source": [
    "m(\"mukhil\",\"mk@gmail.com\")"
   ]
  },
  {
   "cell_type": "code",
   "execution_count": 9,
   "id": "6b031180",
   "metadata": {},
   "outputs": [],
   "source": [
    "b=\"mukh\"\n",
    "c=\"lijs\"\n",
    "n=lambda arg1,arg2:print(arg1,arg2)"
   ]
  },
  {
   "cell_type": "code",
   "execution_count": 10,
   "id": "09955cc5",
   "metadata": {},
   "outputs": [
    {
     "name": "stdout",
     "output_type": "stream",
     "text": [
      "mukh lijs\n"
     ]
    }
   ],
   "source": [
    "n(b,c)"
   ]
  },
  {
   "cell_type": "code",
   "execution_count": 15,
   "id": "6034130a",
   "metadata": {},
   "outputs": [],
   "source": [
    "r=10\n",
    "def test3(a,b):\n",
    "    r=a/b\n",
    "    print(r)"
   ]
  },
  {
   "cell_type": "code",
   "execution_count": 16,
   "id": "69a814a1",
   "metadata": {},
   "outputs": [
    {
     "name": "stdout",
     "output_type": "stream",
     "text": [
      "1.0\n"
     ]
    }
   ],
   "source": [
    "test3(10,10)"
   ]
  },
  {
   "cell_type": "code",
   "execution_count": 17,
   "id": "82289975",
   "metadata": {},
   "outputs": [
    {
     "name": "stdout",
     "output_type": "stream",
     "text": [
      "\n"
     ]
    }
   ],
   "source": [
    "print()"
   ]
  },
  {
   "cell_type": "code",
   "execution_count": 19,
   "id": "ac5e532c",
   "metadata": {},
   "outputs": [],
   "source": [
    "def test4():\n",
    "    \"\"\" this is my function\n",
    "    mukhil function\n",
    "    \"\"\"\n",
    "    print(\"my name is xyz\")"
   ]
  },
  {
   "cell_type": "code",
   "execution_count": 20,
   "id": "a5b04a11",
   "metadata": {},
   "outputs": [
    {
     "name": "stdout",
     "output_type": "stream",
     "text": [
      "my name is xyz\n"
     ]
    }
   ],
   "source": [
    "test4()"
   ]
  },
  {
   "cell_type": "code",
   "execution_count": 21,
   "id": "7693bd4e",
   "metadata": {},
   "outputs": [
    {
     "name": "stdout",
     "output_type": "stream",
     "text": [
      "Help on built-in function print in module builtins:\n",
      "\n",
      "print(...)\n",
      "    print(value, ..., sep=' ', end='\\n', file=sys.stdout, flush=False)\n",
      "    \n",
      "    Prints the values to a stream, or to sys.stdout by default.\n",
      "    Optional keyword arguments:\n",
      "    file:  a file-like object (stream); defaults to the current sys.stdout.\n",
      "    sep:   string inserted between values, default a space.\n",
      "    end:   string appended after the last value, default a newline.\n",
      "    flush: whether to forcibly flush the stream.\n",
      "\n"
     ]
    }
   ],
   "source": [
    "help(print)"
   ]
  },
  {
   "cell_type": "code",
   "execution_count": 22,
   "id": "5c9bae31",
   "metadata": {},
   "outputs": [],
   "source": [
    "## difference between Iterator, iterable and generator\n",
    "a=10"
   ]
  },
  {
   "cell_type": "code",
   "execution_count": 23,
   "id": "89324b41",
   "metadata": {},
   "outputs": [
    {
     "ename": "TypeError",
     "evalue": "'int' object is not iterable",
     "output_type": "error",
     "traceback": [
      "\u001b[1;31m---------------------------------------------------------------------------\u001b[0m",
      "\u001b[1;31mTypeError\u001b[0m                                 Traceback (most recent call last)",
      "\u001b[1;32m~\\AppData\\Local\\Temp\\ipykernel_23004\\3114545233.py\u001b[0m in \u001b[0;36m<module>\u001b[1;34m\u001b[0m\n\u001b[1;32m----> 1\u001b[1;33m \u001b[1;32mfor\u001b[0m \u001b[0mi\u001b[0m \u001b[1;32min\u001b[0m \u001b[0ma\u001b[0m\u001b[1;33m:\u001b[0m\u001b[1;33m\u001b[0m\u001b[1;33m\u001b[0m\u001b[0m\n\u001b[0m\u001b[0;32m      2\u001b[0m     \u001b[0mprint\u001b[0m\u001b[1;33m(\u001b[0m\u001b[0mi\u001b[0m\u001b[1;33m)\u001b[0m\u001b[1;33m\u001b[0m\u001b[1;33m\u001b[0m\u001b[0m\n",
      "\u001b[1;31mTypeError\u001b[0m: 'int' object is not iterable"
     ]
    }
   ],
   "source": [
    "for i in a:\n",
    "    print(i)"
   ]
  },
  {
   "cell_type": "code",
   "execution_count": 24,
   "id": "42e0dfcf",
   "metadata": {},
   "outputs": [
    {
     "name": "stdout",
     "output_type": "stream",
     "text": [
      "m\n",
      "u\n",
      "k\n",
      "h\n",
      "i\n"
     ]
    }
   ],
   "source": [
    "for i in \"mukhi\":\n",
    "    print(i)"
   ]
  },
  {
   "cell_type": "code",
   "execution_count": 25,
   "id": "a4d8f9ed",
   "metadata": {},
   "outputs": [
    {
     "ename": "TypeError",
     "evalue": "'str' object is not an iterator",
     "output_type": "error",
     "traceback": [
      "\u001b[1;31m---------------------------------------------------------------------------\u001b[0m",
      "\u001b[1;31mTypeError\u001b[0m                                 Traceback (most recent call last)",
      "\u001b[1;32m~\\AppData\\Local\\Temp\\ipykernel_23004\\128933522.py\u001b[0m in \u001b[0;36m<module>\u001b[1;34m\u001b[0m\n\u001b[0;32m      1\u001b[0m \u001b[0ms\u001b[0m\u001b[1;33m=\u001b[0m\u001b[1;34m\"sudh\"\u001b[0m\u001b[1;33m\u001b[0m\u001b[1;33m\u001b[0m\u001b[0m\n\u001b[1;32m----> 2\u001b[1;33m \u001b[0mnext\u001b[0m\u001b[1;33m(\u001b[0m\u001b[0ms\u001b[0m\u001b[1;33m)\u001b[0m\u001b[1;33m\u001b[0m\u001b[1;33m\u001b[0m\u001b[0m\n\u001b[0m",
      "\u001b[1;31mTypeError\u001b[0m: 'str' object is not an iterator"
     ]
    }
   ],
   "source": [
    "s=\"sudh\"\n",
    "next(s)"
   ]
  },
  {
   "cell_type": "code",
   "execution_count": 26,
   "id": "286a020e",
   "metadata": {},
   "outputs": [],
   "source": [
    "s= iter(s)"
   ]
  },
  {
   "cell_type": "code",
   "execution_count": 27,
   "id": "07394639",
   "metadata": {},
   "outputs": [
    {
     "data": {
      "text/plain": [
       "'s'"
      ]
     },
     "execution_count": 27,
     "metadata": {},
     "output_type": "execute_result"
    }
   ],
   "source": [
    "next(s)"
   ]
  },
  {
   "cell_type": "code",
   "execution_count": 30,
   "id": "16e1c71d",
   "metadata": {},
   "outputs": [
    {
     "ename": "TypeError",
     "evalue": "'int' object is not iterable",
     "output_type": "error",
     "traceback": [
      "\u001b[1;31m---------------------------------------------------------------------------\u001b[0m",
      "\u001b[1;31mTypeError\u001b[0m                                 Traceback (most recent call last)",
      "\u001b[1;32m~\\AppData\\Local\\Temp\\ipykernel_23004\\756236886.py\u001b[0m in \u001b[0;36m<module>\u001b[1;34m\u001b[0m\n\u001b[0;32m      1\u001b[0m \u001b[0ma\u001b[0m\u001b[1;33m=\u001b[0m\u001b[1;36m10\u001b[0m\u001b[1;33m\u001b[0m\u001b[1;33m\u001b[0m\u001b[0m\n\u001b[1;32m----> 2\u001b[1;33m \u001b[0mb\u001b[0m\u001b[1;33m=\u001b[0m\u001b[0miter\u001b[0m\u001b[1;33m(\u001b[0m\u001b[0ma\u001b[0m\u001b[1;33m)\u001b[0m\u001b[1;33m\u001b[0m\u001b[1;33m\u001b[0m\u001b[0m\n\u001b[0m\u001b[0;32m      3\u001b[0m \u001b[0mnext\u001b[0m\u001b[1;33m(\u001b[0m\u001b[0mb\u001b[0m\u001b[1;33m)\u001b[0m\u001b[1;33m\u001b[0m\u001b[1;33m\u001b[0m\u001b[0m\n",
      "\u001b[1;31mTypeError\u001b[0m: 'int' object is not iterable"
     ]
    }
   ],
   "source": [
    "a=10\n",
    "b=iter(a)\n",
    "next(b)"
   ]
  },
  {
   "cell_type": "code",
   "execution_count": 31,
   "id": "1aa2423b",
   "metadata": {},
   "outputs": [],
   "source": [
    "s=iter(s)"
   ]
  },
  {
   "cell_type": "code",
   "execution_count": 32,
   "id": "4ca3dd2e",
   "metadata": {},
   "outputs": [
    {
     "data": {
      "text/plain": [
       "'u'"
      ]
     },
     "execution_count": 32,
     "metadata": {},
     "output_type": "execute_result"
    }
   ],
   "source": [
    "next(s)"
   ]
  },
  {
   "cell_type": "code",
   "execution_count": 33,
   "id": "25708eaf",
   "metadata": {},
   "outputs": [
    {
     "data": {
      "text/plain": [
       "'d'"
      ]
     },
     "execution_count": 33,
     "metadata": {},
     "output_type": "execute_result"
    }
   ],
   "source": [
    "next(s)"
   ]
  },
  {
   "cell_type": "code",
   "execution_count": 34,
   "id": "672a94ae",
   "metadata": {},
   "outputs": [
    {
     "data": {
      "text/plain": [
       "'h'"
      ]
     },
     "execution_count": 34,
     "metadata": {},
     "output_type": "execute_result"
    }
   ],
   "source": [
    "next(s)"
   ]
  },
  {
   "cell_type": "code",
   "execution_count": 35,
   "id": "00369bfb",
   "metadata": {},
   "outputs": [
    {
     "ename": "StopIteration",
     "evalue": "",
     "output_type": "error",
     "traceback": [
      "\u001b[1;31m---------------------------------------------------------------------------\u001b[0m",
      "\u001b[1;31mStopIteration\u001b[0m                             Traceback (most recent call last)",
      "\u001b[1;32m~\\AppData\\Local\\Temp\\ipykernel_23004\\1977886155.py\u001b[0m in \u001b[0;36m<module>\u001b[1;34m\u001b[0m\n\u001b[1;32m----> 1\u001b[1;33m \u001b[0mnext\u001b[0m\u001b[1;33m(\u001b[0m\u001b[0ms\u001b[0m\u001b[1;33m)\u001b[0m\u001b[1;33m\u001b[0m\u001b[1;33m\u001b[0m\u001b[0m\n\u001b[0m",
      "\u001b[1;31mStopIteration\u001b[0m: "
     ]
    }
   ],
   "source": [
    "next(s)"
   ]
  },
  {
   "cell_type": "code",
   "execution_count": 37,
   "id": "db14341e",
   "metadata": {},
   "outputs": [
    {
     "name": "stdout",
     "output_type": "stream",
     "text": [
      "s\n",
      "u\n",
      "d\n",
      "h\n"
     ]
    },
    {
     "data": {
      "text/plain": [
       "str"
      ]
     },
     "execution_count": 37,
     "metadata": {},
     "output_type": "execute_result"
    }
   ],
   "source": [
    "for i in \"sudh\":\n",
    "    print(i)\n",
    "type(i)"
   ]
  },
  {
   "cell_type": "code",
   "execution_count": 42,
   "id": "53533845",
   "metadata": {},
   "outputs": [],
   "source": [
    "l=[1,2,4,3,1]"
   ]
  },
  {
   "cell_type": "code",
   "execution_count": 46,
   "id": "39c1425b",
   "metadata": {},
   "outputs": [],
   "source": [
    "l=iter(l)"
   ]
  },
  {
   "cell_type": "code",
   "execution_count": 47,
   "id": "d890b22f",
   "metadata": {},
   "outputs": [
    {
     "data": {
      "text/plain": [
       "1"
      ]
     },
     "execution_count": 47,
     "metadata": {},
     "output_type": "execute_result"
    }
   ],
   "source": [
    "next(l)"
   ]
  },
  {
   "cell_type": "code",
   "execution_count": 48,
   "id": "a54fafc5",
   "metadata": {},
   "outputs": [],
   "source": [
    "t=(4,5,2,5)"
   ]
  },
  {
   "cell_type": "code",
   "execution_count": 49,
   "id": "c65f8cac",
   "metadata": {},
   "outputs": [],
   "source": [
    "t=iter(t)"
   ]
  },
  {
   "cell_type": "code",
   "execution_count": 50,
   "id": "bc48ec7e",
   "metadata": {},
   "outputs": [
    {
     "data": {
      "text/plain": [
       "4"
      ]
     },
     "execution_count": 50,
     "metadata": {},
     "output_type": "execute_result"
    }
   ],
   "source": [
    "next(t)"
   ]
  },
  {
   "cell_type": "code",
   "execution_count": 3,
   "id": "0e467e9a",
   "metadata": {},
   "outputs": [],
   "source": [
    "def test4(n):\n",
    "    l=[]\n",
    "    for i in range(n):\n",
    "        l.append(i**3)\n",
    "    return l"
   ]
  },
  {
   "cell_type": "code",
   "execution_count": 7,
   "id": "84e32e83",
   "metadata": {},
   "outputs": [
    {
     "data": {
      "text/plain": [
       "[0,\n",
       " 1,\n",
       " 8,\n",
       " 27,\n",
       " 64,\n",
       " 125,\n",
       " 216,\n",
       " 343,\n",
       " 512,\n",
       " 729,\n",
       " 1000,\n",
       " 1331,\n",
       " 1728,\n",
       " 2197,\n",
       " 2744,\n",
       " 3375,\n",
       " 4096,\n",
       " 4913,\n",
       " 5832,\n",
       " 6859,\n",
       " 8000,\n",
       " 9261,\n",
       " 10648,\n",
       " 12167,\n",
       " 13824,\n",
       " 15625,\n",
       " 17576,\n",
       " 19683,\n",
       " 21952,\n",
       " 24389,\n",
       " 27000,\n",
       " 29791,\n",
       " 32768,\n",
       " 35937,\n",
       " 39304,\n",
       " 42875,\n",
       " 46656,\n",
       " 50653,\n",
       " 54872,\n",
       " 59319,\n",
       " 64000,\n",
       " 68921,\n",
       " 74088,\n",
       " 79507,\n",
       " 85184,\n",
       " 91125,\n",
       " 97336,\n",
       " 103823,\n",
       " 110592,\n",
       " 117649,\n",
       " 125000,\n",
       " 132651,\n",
       " 140608,\n",
       " 148877,\n",
       " 157464,\n",
       " 166375,\n",
       " 175616,\n",
       " 185193,\n",
       " 195112,\n",
       " 205379,\n",
       " 216000,\n",
       " 226981,\n",
       " 238328,\n",
       " 250047,\n",
       " 262144,\n",
       " 274625,\n",
       " 287496,\n",
       " 300763,\n",
       " 314432,\n",
       " 328509,\n",
       " 343000,\n",
       " 357911,\n",
       " 373248,\n",
       " 389017,\n",
       " 405224,\n",
       " 421875,\n",
       " 438976,\n",
       " 456533,\n",
       " 474552,\n",
       " 493039,\n",
       " 512000,\n",
       " 531441,\n",
       " 551368,\n",
       " 571787,\n",
       " 592704,\n",
       " 614125,\n",
       " 636056,\n",
       " 658503,\n",
       " 681472,\n",
       " 704969,\n",
       " 729000,\n",
       " 753571,\n",
       " 778688,\n",
       " 804357,\n",
       " 830584,\n",
       " 857375,\n",
       " 884736,\n",
       " 912673,\n",
       " 941192,\n",
       " 970299,\n",
       " 1000000,\n",
       " 1030301,\n",
       " 1061208,\n",
       " 1092727,\n",
       " 1124864,\n",
       " 1157625,\n",
       " 1191016,\n",
       " 1225043,\n",
       " 1259712,\n",
       " 1295029,\n",
       " 1331000,\n",
       " 1367631,\n",
       " 1404928,\n",
       " 1442897,\n",
       " 1481544,\n",
       " 1520875,\n",
       " 1560896,\n",
       " 1601613,\n",
       " 1643032,\n",
       " 1685159,\n",
       " 1728000,\n",
       " 1771561,\n",
       " 1815848,\n",
       " 1860867,\n",
       " 1906624,\n",
       " 1953125,\n",
       " 2000376,\n",
       " 2048383,\n",
       " 2097152,\n",
       " 2146689,\n",
       " 2197000,\n",
       " 2248091,\n",
       " 2299968,\n",
       " 2352637,\n",
       " 2406104,\n",
       " 2460375,\n",
       " 2515456,\n",
       " 2571353,\n",
       " 2628072,\n",
       " 2685619,\n",
       " 2744000,\n",
       " 2803221,\n",
       " 2863288,\n",
       " 2924207,\n",
       " 2985984,\n",
       " 3048625,\n",
       " 3112136,\n",
       " 3176523,\n",
       " 3241792,\n",
       " 3307949,\n",
       " 3375000,\n",
       " 3442951,\n",
       " 3511808,\n",
       " 3581577,\n",
       " 3652264,\n",
       " 3723875,\n",
       " 3796416,\n",
       " 3869893,\n",
       " 3944312,\n",
       " 4019679,\n",
       " 4096000,\n",
       " 4173281,\n",
       " 4251528,\n",
       " 4330747,\n",
       " 4410944,\n",
       " 4492125,\n",
       " 4574296,\n",
       " 4657463,\n",
       " 4741632,\n",
       " 4826809,\n",
       " 4913000,\n",
       " 5000211,\n",
       " 5088448,\n",
       " 5177717,\n",
       " 5268024,\n",
       " 5359375,\n",
       " 5451776,\n",
       " 5545233,\n",
       " 5639752,\n",
       " 5735339,\n",
       " 5832000,\n",
       " 5929741,\n",
       " 6028568,\n",
       " 6128487,\n",
       " 6229504,\n",
       " 6331625,\n",
       " 6434856,\n",
       " 6539203,\n",
       " 6644672,\n",
       " 6751269,\n",
       " 6859000,\n",
       " 6967871,\n",
       " 7077888,\n",
       " 7189057,\n",
       " 7301384,\n",
       " 7414875,\n",
       " 7529536,\n",
       " 7645373,\n",
       " 7762392,\n",
       " 7880599,\n",
       " 8000000,\n",
       " 8120601,\n",
       " 8242408,\n",
       " 8365427,\n",
       " 8489664,\n",
       " 8615125,\n",
       " 8741816,\n",
       " 8869743,\n",
       " 8998912,\n",
       " 9129329,\n",
       " 9261000,\n",
       " 9393931,\n",
       " 9528128,\n",
       " 9663597,\n",
       " 9800344,\n",
       " 9938375,\n",
       " 10077696,\n",
       " 10218313,\n",
       " 10360232,\n",
       " 10503459,\n",
       " 10648000,\n",
       " 10793861,\n",
       " 10941048,\n",
       " 11089567,\n",
       " 11239424,\n",
       " 11390625,\n",
       " 11543176,\n",
       " 11697083,\n",
       " 11852352,\n",
       " 12008989,\n",
       " 12167000,\n",
       " 12326391,\n",
       " 12487168,\n",
       " 12649337,\n",
       " 12812904,\n",
       " 12977875,\n",
       " 13144256,\n",
       " 13312053,\n",
       " 13481272,\n",
       " 13651919,\n",
       " 13824000,\n",
       " 13997521,\n",
       " 14172488,\n",
       " 14348907,\n",
       " 14526784,\n",
       " 14706125,\n",
       " 14886936,\n",
       " 15069223,\n",
       " 15252992,\n",
       " 15438249,\n",
       " 15625000,\n",
       " 15813251,\n",
       " 16003008,\n",
       " 16194277,\n",
       " 16387064,\n",
       " 16581375,\n",
       " 16777216,\n",
       " 16974593,\n",
       " 17173512,\n",
       " 17373979,\n",
       " 17576000,\n",
       " 17779581,\n",
       " 17984728,\n",
       " 18191447,\n",
       " 18399744,\n",
       " 18609625,\n",
       " 18821096,\n",
       " 19034163,\n",
       " 19248832,\n",
       " 19465109,\n",
       " 19683000,\n",
       " 19902511,\n",
       " 20123648,\n",
       " 20346417,\n",
       " 20570824,\n",
       " 20796875,\n",
       " 21024576,\n",
       " 21253933,\n",
       " 21484952,\n",
       " 21717639,\n",
       " 21952000,\n",
       " 22188041,\n",
       " 22425768,\n",
       " 22665187,\n",
       " 22906304,\n",
       " 23149125,\n",
       " 23393656,\n",
       " 23639903,\n",
       " 23887872,\n",
       " 24137569,\n",
       " 24389000,\n",
       " 24642171,\n",
       " 24897088,\n",
       " 25153757,\n",
       " 25412184,\n",
       " 25672375,\n",
       " 25934336,\n",
       " 26198073,\n",
       " 26463592,\n",
       " 26730899,\n",
       " 27000000,\n",
       " 27270901,\n",
       " 27543608,\n",
       " 27818127,\n",
       " 28094464,\n",
       " 28372625,\n",
       " 28652616,\n",
       " 28934443,\n",
       " 29218112,\n",
       " 29503629,\n",
       " 29791000,\n",
       " 30080231,\n",
       " 30371328,\n",
       " 30664297,\n",
       " 30959144,\n",
       " 31255875,\n",
       " 31554496,\n",
       " 31855013,\n",
       " 32157432,\n",
       " 32461759,\n",
       " 32768000,\n",
       " 33076161,\n",
       " 33386248,\n",
       " 33698267,\n",
       " 34012224,\n",
       " 34328125,\n",
       " 34645976,\n",
       " 34965783,\n",
       " 35287552,\n",
       " 35611289,\n",
       " 35937000,\n",
       " 36264691,\n",
       " 36594368,\n",
       " 36926037,\n",
       " 37259704,\n",
       " 37595375,\n",
       " 37933056,\n",
       " 38272753,\n",
       " 38614472,\n",
       " 38958219,\n",
       " 39304000,\n",
       " 39651821,\n",
       " 40001688,\n",
       " 40353607,\n",
       " 40707584,\n",
       " 41063625,\n",
       " 41421736,\n",
       " 41781923,\n",
       " 42144192,\n",
       " 42508549,\n",
       " 42875000,\n",
       " 43243551,\n",
       " 43614208,\n",
       " 43986977,\n",
       " 44361864,\n",
       " 44738875,\n",
       " 45118016,\n",
       " 45499293,\n",
       " 45882712,\n",
       " 46268279,\n",
       " 46656000,\n",
       " 47045881,\n",
       " 47437928,\n",
       " 47832147,\n",
       " 48228544,\n",
       " 48627125,\n",
       " 49027896,\n",
       " 49430863,\n",
       " 49836032,\n",
       " 50243409,\n",
       " 50653000,\n",
       " 51064811,\n",
       " 51478848,\n",
       " 51895117,\n",
       " 52313624,\n",
       " 52734375,\n",
       " 53157376,\n",
       " 53582633,\n",
       " 54010152,\n",
       " 54439939,\n",
       " 54872000,\n",
       " 55306341,\n",
       " 55742968,\n",
       " 56181887,\n",
       " 56623104,\n",
       " 57066625,\n",
       " 57512456,\n",
       " 57960603,\n",
       " 58411072,\n",
       " 58863869,\n",
       " 59319000,\n",
       " 59776471,\n",
       " 60236288,\n",
       " 60698457,\n",
       " 61162984,\n",
       " 61629875,\n",
       " 62099136,\n",
       " 62570773,\n",
       " 63044792,\n",
       " 63521199,\n",
       " 64000000,\n",
       " 64481201,\n",
       " 64964808,\n",
       " 65450827,\n",
       " 65939264,\n",
       " 66430125,\n",
       " 66923416,\n",
       " 67419143,\n",
       " 67917312,\n",
       " 68417929,\n",
       " 68921000,\n",
       " 69426531,\n",
       " 69934528,\n",
       " 70444997,\n",
       " 70957944,\n",
       " 71473375,\n",
       " 71991296,\n",
       " 72511713,\n",
       " 73034632,\n",
       " 73560059,\n",
       " 74088000,\n",
       " 74618461,\n",
       " 75151448,\n",
       " 75686967,\n",
       " 76225024,\n",
       " 76765625,\n",
       " 77308776,\n",
       " 77854483,\n",
       " 78402752,\n",
       " 78953589,\n",
       " 79507000,\n",
       " 80062991,\n",
       " 80621568,\n",
       " 81182737,\n",
       " 81746504,\n",
       " 82312875,\n",
       " 82881856,\n",
       " 83453453,\n",
       " 84027672,\n",
       " 84604519,\n",
       " 85184000,\n",
       " 85766121,\n",
       " 86350888,\n",
       " 86938307,\n",
       " 87528384,\n",
       " 88121125,\n",
       " 88716536,\n",
       " 89314623,\n",
       " 89915392,\n",
       " 90518849,\n",
       " 91125000,\n",
       " 91733851,\n",
       " 92345408,\n",
       " 92959677,\n",
       " 93576664,\n",
       " 94196375,\n",
       " 94818816,\n",
       " 95443993,\n",
       " 96071912,\n",
       " 96702579,\n",
       " 97336000,\n",
       " 97972181,\n",
       " 98611128,\n",
       " 99252847,\n",
       " 99897344,\n",
       " 100544625,\n",
       " 101194696,\n",
       " 101847563,\n",
       " 102503232,\n",
       " 103161709,\n",
       " 103823000,\n",
       " 104487111,\n",
       " 105154048,\n",
       " 105823817,\n",
       " 106496424,\n",
       " 107171875,\n",
       " 107850176,\n",
       " 108531333,\n",
       " 109215352,\n",
       " 109902239,\n",
       " 110592000,\n",
       " 111284641,\n",
       " 111980168,\n",
       " 112678587,\n",
       " 113379904,\n",
       " 114084125,\n",
       " 114791256,\n",
       " 115501303,\n",
       " 116214272,\n",
       " 116930169,\n",
       " 117649000,\n",
       " 118370771,\n",
       " 119095488,\n",
       " 119823157,\n",
       " 120553784,\n",
       " 121287375,\n",
       " 122023936,\n",
       " 122763473,\n",
       " 123505992,\n",
       " 124251499,\n",
       " 125000000,\n",
       " 125751501,\n",
       " 126506008,\n",
       " 127263527,\n",
       " 128024064,\n",
       " 128787625,\n",
       " 129554216,\n",
       " 130323843,\n",
       " 131096512,\n",
       " 131872229,\n",
       " 132651000,\n",
       " 133432831,\n",
       " 134217728,\n",
       " 135005697,\n",
       " 135796744,\n",
       " 136590875,\n",
       " 137388096,\n",
       " 138188413,\n",
       " 138991832,\n",
       " 139798359,\n",
       " 140608000,\n",
       " 141420761,\n",
       " 142236648,\n",
       " 143055667,\n",
       " 143877824,\n",
       " 144703125,\n",
       " 145531576,\n",
       " 146363183,\n",
       " 147197952,\n",
       " 148035889,\n",
       " 148877000,\n",
       " 149721291,\n",
       " 150568768,\n",
       " 151419437,\n",
       " 152273304,\n",
       " 153130375,\n",
       " 153990656,\n",
       " 154854153,\n",
       " 155720872,\n",
       " 156590819,\n",
       " 157464000,\n",
       " 158340421,\n",
       " 159220088,\n",
       " 160103007,\n",
       " 160989184,\n",
       " 161878625,\n",
       " 162771336,\n",
       " 163667323,\n",
       " 164566592,\n",
       " 165469149,\n",
       " 166375000,\n",
       " 167284151,\n",
       " 168196608,\n",
       " 169112377,\n",
       " 170031464,\n",
       " 170953875,\n",
       " 171879616,\n",
       " 172808693,\n",
       " 173741112,\n",
       " 174676879,\n",
       " 175616000,\n",
       " 176558481,\n",
       " 177504328,\n",
       " 178453547,\n",
       " 179406144,\n",
       " 180362125,\n",
       " 181321496,\n",
       " 182284263,\n",
       " 183250432,\n",
       " 184220009,\n",
       " 185193000,\n",
       " 186169411,\n",
       " 187149248,\n",
       " 188132517,\n",
       " 189119224,\n",
       " 190109375,\n",
       " 191102976,\n",
       " 192100033,\n",
       " 193100552,\n",
       " 194104539,\n",
       " 195112000,\n",
       " 196122941,\n",
       " 197137368,\n",
       " 198155287,\n",
       " 199176704,\n",
       " 200201625,\n",
       " 201230056,\n",
       " 202262003,\n",
       " 203297472,\n",
       " 204336469,\n",
       " 205379000,\n",
       " 206425071,\n",
       " 207474688,\n",
       " 208527857,\n",
       " 209584584,\n",
       " 210644875,\n",
       " 211708736,\n",
       " 212776173,\n",
       " 213847192,\n",
       " 214921799]"
      ]
     },
     "execution_count": 7,
     "metadata": {},
     "output_type": "execute_result"
    }
   ],
   "source": [
    "test4(600)"
   ]
  },
  {
   "cell_type": "code",
   "execution_count": 1,
   "id": "8894f8db",
   "metadata": {},
   "outputs": [],
   "source": [
    "t=(4,5,6,7)\n",
    "t=iter(t)"
   ]
  },
  {
   "cell_type": "code",
   "execution_count": 2,
   "id": "1fbe8b3b",
   "metadata": {},
   "outputs": [
    {
     "data": {
      "text/plain": [
       "4"
      ]
     },
     "execution_count": 2,
     "metadata": {},
     "output_type": "execute_result"
    }
   ],
   "source": [
    "next(t)"
   ]
  },
  {
   "cell_type": "code",
   "execution_count": 12,
   "id": "b281a592",
   "metadata": {},
   "outputs": [],
   "source": [
    "def test4(n):\n",
    "    l=[]\n",
    "    for i in range(n):\n",
    "        l.append(i**3)\n",
    "    \n",
    "    return l"
   ]
  },
  {
   "cell_type": "code",
   "execution_count": 14,
   "id": "8b076990",
   "metadata": {},
   "outputs": [
    {
     "data": {
      "text/plain": [
       "[0, 1, 8, 27, 64, 125]"
      ]
     },
     "execution_count": 14,
     "metadata": {},
     "output_type": "execute_result"
    }
   ],
   "source": [
    "test4(6)"
   ]
  },
  {
   "cell_type": "code",
   "execution_count": 1,
   "id": "eebf3ce5",
   "metadata": {},
   "outputs": [],
   "source": [
    "# Generator Object\n",
    "def test5(n):\n",
    "    for i in range(n):\n",
    "        yield i**3"
   ]
  },
  {
   "cell_type": "code",
   "execution_count": 2,
   "id": "0dec6b7b",
   "metadata": {},
   "outputs": [
    {
     "data": {
      "text/plain": [
       "<generator object test5 at 0x000001FBB5EC4270>"
      ]
     },
     "execution_count": 2,
     "metadata": {},
     "output_type": "execute_result"
    }
   ],
   "source": [
    "test5(30)"
   ]
  },
  {
   "cell_type": "code",
   "execution_count": 3,
   "id": "4d22d314",
   "metadata": {},
   "outputs": [
    {
     "data": {
      "text/plain": [
       "range(0, 20)"
      ]
     },
     "execution_count": 3,
     "metadata": {},
     "output_type": "execute_result"
    }
   ],
   "source": [
    "range(20)\n"
   ]
  },
  {
   "cell_type": "code",
   "execution_count": 4,
   "id": "73be5a6e",
   "metadata": {},
   "outputs": [
    {
     "data": {
      "text/plain": [
       "[0, 1, 2, 3, 4, 5, 6, 7, 8, 9, 10, 11, 12, 13, 14, 15, 16, 17, 18, 19]"
      ]
     },
     "execution_count": 4,
     "metadata": {},
     "output_type": "execute_result"
    }
   ],
   "source": [
    "list(range(20))"
   ]
  },
  {
   "cell_type": "code",
   "execution_count": 5,
   "id": "c6a00cfe",
   "metadata": {},
   "outputs": [
    {
     "name": "stdout",
     "output_type": "stream",
     "text": [
      "0\n",
      "1\n"
     ]
    }
   ],
   "source": [
    "for i in test5(2):\n",
    "    print(i)"
   ]
  },
  {
   "cell_type": "code",
   "execution_count": 16,
   "id": "55485848",
   "metadata": {},
   "outputs": [],
   "source": [
    "def genfib(n):\n",
    "    a=1\n",
    "    b=1\n",
    "    output=[]\n",
    "    for i in range(n):\n",
    "        output.append(a)\n",
    "        a,b=b,a+b\n",
    "    return output"
   ]
  },
  {
   "cell_type": "code",
   "execution_count": 18,
   "id": "b6c5b4ca",
   "metadata": {},
   "outputs": [
    {
     "data": {
      "text/plain": [
       "[1,\n",
       " 1,\n",
       " 2,\n",
       " 3,\n",
       " 5,\n",
       " 8,\n",
       " 13,\n",
       " 21,\n",
       " 34,\n",
       " 55,\n",
       " 89,\n",
       " 144,\n",
       " 233,\n",
       " 377,\n",
       " 610,\n",
       " 987,\n",
       " 1597,\n",
       " 2584,\n",
       " 4181,\n",
       " 6765,\n",
       " 10946,\n",
       " 17711,\n",
       " 28657,\n",
       " 46368,\n",
       " 75025,\n",
       " 121393,\n",
       " 196418,\n",
       " 317811,\n",
       " 514229,\n",
       " 832040]"
      ]
     },
     "execution_count": 18,
     "metadata": {},
     "output_type": "execute_result"
    }
   ],
   "source": [
    "genfib(30)"
   ]
  },
  {
   "cell_type": "code",
   "execution_count": 19,
   "id": "e49f3da6",
   "metadata": {},
   "outputs": [],
   "source": [
    "def genfib(n):\n",
    "    a=1\n",
    "    b=1\n",
    "    for i in range(n):\n",
    "        yield a\n",
    "        a,b=b,a+b"
   ]
  },
  {
   "cell_type": "code",
   "execution_count": 20,
   "id": "69ae7b11",
   "metadata": {},
   "outputs": [
    {
     "data": {
      "text/plain": [
       "<generator object genfib at 0x000001FBB816D7B0>"
      ]
     },
     "execution_count": 20,
     "metadata": {},
     "output_type": "execute_result"
    }
   ],
   "source": [
    "genfib(8)"
   ]
  },
  {
   "cell_type": "code",
   "execution_count": 21,
   "id": "dfeb8a76",
   "metadata": {},
   "outputs": [
    {
     "name": "stdout",
     "output_type": "stream",
     "text": [
      "1\n",
      "1\n",
      "2\n",
      "3\n",
      "5\n",
      "8\n",
      "13\n",
      "21\n"
     ]
    }
   ],
   "source": [
    "for i in genfib(8):\n",
    "    print(i)"
   ]
  },
  {
   "cell_type": "code",
   "execution_count": 25,
   "id": "3715c227",
   "metadata": {},
   "outputs": [],
   "source": [
    "f=open(\"test.txt\",\"w\")"
   ]
  },
  {
   "cell_type": "code",
   "execution_count": 26,
   "id": "dec673af",
   "metadata": {},
   "outputs": [
    {
     "data": {
      "text/plain": [
       "17"
      ]
     },
     "execution_count": 26,
     "metadata": {},
     "output_type": "execute_result"
    }
   ],
   "source": [
    "f.write(\"sadjaskdjkasjdkas\")"
   ]
  },
  {
   "cell_type": "code",
   "execution_count": 27,
   "id": "29c30f64",
   "metadata": {},
   "outputs": [],
   "source": [
    "f.close()"
   ]
  },
  {
   "cell_type": "code",
   "execution_count": 29,
   "id": "7104f1a1",
   "metadata": {},
   "outputs": [],
   "source": [
    "f=open(\"test.txt\")"
   ]
  },
  {
   "cell_type": "code",
   "execution_count": 30,
   "id": "54dff177",
   "metadata": {},
   "outputs": [
    {
     "data": {
      "text/plain": [
       "'sadjaskdjkasjdkas'"
      ]
     },
     "execution_count": 30,
     "metadata": {},
     "output_type": "execute_result"
    }
   ],
   "source": [
    "f.read()"
   ]
  },
  {
   "cell_type": "code",
   "execution_count": 31,
   "id": "a9ce0f73",
   "metadata": {},
   "outputs": [
    {
     "data": {
      "text/plain": [
       "''"
      ]
     },
     "execution_count": 31,
     "metadata": {},
     "output_type": "execute_result"
    }
   ],
   "source": [
    "f.read()"
   ]
  },
  {
   "cell_type": "code",
   "execution_count": 36,
   "id": "0c5de769",
   "metadata": {},
   "outputs": [
    {
     "data": {
      "text/plain": [
       "0"
      ]
     },
     "execution_count": 36,
     "metadata": {},
     "output_type": "execute_result"
    }
   ],
   "source": [
    "f.seek(0)"
   ]
  },
  {
   "cell_type": "code",
   "execution_count": 37,
   "id": "d5886754",
   "metadata": {},
   "outputs": [
    {
     "data": {
      "text/plain": [
       "'sadjaskdjkasjdkas'"
      ]
     },
     "execution_count": 37,
     "metadata": {},
     "output_type": "execute_result"
    }
   ],
   "source": [
    "f.read()"
   ]
  },
  {
   "cell_type": "code",
   "execution_count": 44,
   "id": "7fa071c5",
   "metadata": {},
   "outputs": [],
   "source": [
    "f=open(\"test.txt\",\"r\")"
   ]
  },
  {
   "cell_type": "code",
   "execution_count": 46,
   "id": "c18f5468",
   "metadata": {},
   "outputs": [
    {
     "data": {
      "text/plain": [
       "'as\\nsfd\\nasd\\nasdasd\\nads\\nasd'"
      ]
     },
     "execution_count": 46,
     "metadata": {},
     "output_type": "execute_result"
    }
   ],
   "source": [
    "f.read(25)"
   ]
  },
  {
   "cell_type": "code",
   "execution_count": 47,
   "id": "0ad5b269",
   "metadata": {},
   "outputs": [],
   "source": [
    "f.close()"
   ]
  },
  {
   "cell_type": "code",
   "execution_count": 56,
   "id": "19243a2f",
   "metadata": {},
   "outputs": [],
   "source": [
    "f=open(\"test1.txt\",'wb')"
   ]
  },
  {
   "cell_type": "code",
   "execution_count": 57,
   "id": "fe1f9a0c",
   "metadata": {},
   "outputs": [
    {
     "ename": "TypeError",
     "evalue": "a bytes-like object is required, not 'str'",
     "output_type": "error",
     "traceback": [
      "\u001b[1;31m---------------------------------------------------------------------------\u001b[0m",
      "\u001b[1;31mTypeError\u001b[0m                                 Traceback (most recent call last)",
      "\u001b[1;32m~\\AppData\\Local\\Temp\\ipykernel_22400\\3182447175.py\u001b[0m in \u001b[0;36m<module>\u001b[1;34m\u001b[0m\n\u001b[1;32m----> 1\u001b[1;33m \u001b[0mf\u001b[0m\u001b[1;33m.\u001b[0m\u001b[0mwrite\u001b[0m\u001b[1;33m(\u001b[0m\u001b[1;34m\"adasdasdasdasdasda\"\u001b[0m\u001b[1;33m)\u001b[0m\u001b[1;33m\u001b[0m\u001b[1;33m\u001b[0m\u001b[0m\n\u001b[0m",
      "\u001b[1;31mTypeError\u001b[0m: a bytes-like object is required, not 'str'"
     ]
    }
   ],
   "source": [
    "f.write(\"adasdasdasdasdasda\")"
   ]
  },
  {
   "cell_type": "code",
   "execution_count": 58,
   "id": "b331a0d7",
   "metadata": {},
   "outputs": [
    {
     "data": {
      "text/plain": [
       "18"
      ]
     },
     "execution_count": 58,
     "metadata": {},
     "output_type": "execute_result"
    }
   ],
   "source": [
    "f.write(b\"adasdasdasdasdasda\")"
   ]
  },
  {
   "cell_type": "code",
   "execution_count": 59,
   "id": "642e8d97",
   "metadata": {},
   "outputs": [],
   "source": [
    "f.close()"
   ]
  },
  {
   "cell_type": "code",
   "execution_count": 60,
   "id": "eead7afc",
   "metadata": {},
   "outputs": [],
   "source": [
    "f=open(\"test1.txt\",\"r\")"
   ]
  },
  {
   "cell_type": "code",
   "execution_count": 61,
   "id": "951794eb",
   "metadata": {},
   "outputs": [
    {
     "data": {
      "text/plain": [
       "'adasdasdasdasdasdaadasdasdasdasdasda'"
      ]
     },
     "execution_count": 61,
     "metadata": {},
     "output_type": "execute_result"
    }
   ],
   "source": [
    "f.read()"
   ]
  },
  {
   "cell_type": "code",
   "execution_count": 62,
   "id": "a0ee1967",
   "metadata": {},
   "outputs": [
    {
     "data": {
      "text/plain": [
       "2"
      ]
     },
     "execution_count": 62,
     "metadata": {},
     "output_type": "execute_result"
    }
   ],
   "source": [
    "f.seek(2)"
   ]
  },
  {
   "cell_type": "code",
   "execution_count": 63,
   "id": "8af4b6f6",
   "metadata": {},
   "outputs": [
    {
     "data": {
      "text/plain": [
       "'as'"
      ]
     },
     "execution_count": 63,
     "metadata": {},
     "output_type": "execute_result"
    }
   ],
   "source": [
    "f.read(2)"
   ]
  },
  {
   "cell_type": "code",
   "execution_count": 1,
   "id": "d317a24c",
   "metadata": {},
   "outputs": [],
   "source": [
    "f=open(\"test.txt\",\"w\")"
   ]
  },
  {
   "cell_type": "code",
   "execution_count": 2,
   "id": "982f7880",
   "metadata": {},
   "outputs": [
    {
     "data": {
      "text/plain": [
       "41"
      ]
     },
     "execution_count": 2,
     "metadata": {},
     "output_type": "execute_result"
    }
   ],
   "source": [
    "f.write(\"ahdhasjdjasuoeilknland dasjdkajsldkjalkds\")"
   ]
  },
  {
   "cell_type": "code",
   "execution_count": 3,
   "id": "dc15804d",
   "metadata": {},
   "outputs": [],
   "source": [
    "f.close()"
   ]
  },
  {
   "cell_type": "code",
   "execution_count": 2,
   "id": "80633db8",
   "metadata": {},
   "outputs": [],
   "source": [
    "f=open()"
   ]
  },
  {
   "cell_type": "code",
   "execution_count": 3,
   "id": "2249ef5d",
   "metadata": {},
   "outputs": [
    {
     "data": {
      "text/plain": [
       "37"
      ]
     },
     "execution_count": 3,
     "metadata": {},
     "output_type": "execute_result"
    }
   ],
   "source": [
    "f.write(\"ad,sma,;dmas,ndlasndlasndmlnasmldnasl\")"
   ]
  },
  {
   "cell_type": "code",
   "execution_count": 4,
   "id": "95df6dd4",
   "metadata": {},
   "outputs": [],
   "source": [
    "f.close()"
   ]
  },
  {
   "cell_type": "code",
   "execution_count": 5,
   "id": "19d30c25",
   "metadata": {},
   "outputs": [],
   "source": [
    "f=open(\"test1.txt\",'wb')"
   ]
  },
  {
   "cell_type": "code",
   "execution_count": 6,
   "id": "dc7cca6f",
   "metadata": {},
   "outputs": [
    {
     "ename": "TypeError",
     "evalue": "a bytes-like object is required, not 'str'",
     "output_type": "error",
     "traceback": [
      "\u001b[1;31m---------------------------------------------------------------------------\u001b[0m",
      "\u001b[1;31mTypeError\u001b[0m                                 Traceback (most recent call last)",
      "\u001b[1;32m~\\AppData\\Local\\Temp\\ipykernel_24596\\1156592236.py\u001b[0m in \u001b[0;36m<module>\u001b[1;34m\u001b[0m\n\u001b[1;32m----> 1\u001b[1;33m \u001b[0mf\u001b[0m\u001b[1;33m.\u001b[0m\u001b[0mwrite\u001b[0m\u001b[1;33m(\u001b[0m\u001b[1;34m\"sdasdasdasdasd\"\u001b[0m\u001b[1;33m)\u001b[0m\u001b[1;33m\u001b[0m\u001b[1;33m\u001b[0m\u001b[0m\n\u001b[0m",
      "\u001b[1;31mTypeError\u001b[0m: a bytes-like object is required, not 'str'"
     ]
    }
   ],
   "source": [
    "f.write(\"sdasdasdasdasd\")"
   ]
  },
  {
   "cell_type": "code",
   "execution_count": 8,
   "id": "f413ae4a",
   "metadata": {},
   "outputs": [
    {
     "data": {
      "text/plain": [
       "14"
      ]
     },
     "execution_count": 8,
     "metadata": {},
     "output_type": "execute_result"
    }
   ],
   "source": [
    "f.write(b\"sdasdasdasdasd\")"
   ]
  },
  {
   "cell_type": "code",
   "execution_count": 9,
   "id": "ad07f9fe",
   "metadata": {},
   "outputs": [],
   "source": [
    "f.close()"
   ]
  },
  {
   "cell_type": "code",
   "execution_count": 16,
   "id": "b08b0ec6",
   "metadata": {},
   "outputs": [],
   "source": [
    "f=open(b\"test1.txt\",\"r\")"
   ]
  },
  {
   "cell_type": "code",
   "execution_count": 17,
   "id": "ca2e3e7a",
   "metadata": {},
   "outputs": [
    {
     "data": {
      "text/plain": [
       "'sdasdasdasdasd'"
      ]
     },
     "execution_count": 17,
     "metadata": {},
     "output_type": "execute_result"
    }
   ],
   "source": [
    "f.read()"
   ]
  },
  {
   "cell_type": "code",
   "execution_count": 18,
   "id": "fc440436",
   "metadata": {},
   "outputs": [
    {
     "data": {
      "text/plain": [
       "4"
      ]
     },
     "execution_count": 18,
     "metadata": {},
     "output_type": "execute_result"
    }
   ],
   "source": [
    "f.seek(4)"
   ]
  },
  {
   "cell_type": "code",
   "execution_count": 13,
   "id": "944036d6",
   "metadata": {},
   "outputs": [
    {
     "data": {
      "text/plain": [
       "'dasdasdasd'"
      ]
     },
     "execution_count": 13,
     "metadata": {},
     "output_type": "execute_result"
    }
   ],
   "source": [
    "f.read()"
   ]
  },
  {
   "cell_type": "code",
   "execution_count": 19,
   "id": "7419e014",
   "metadata": {},
   "outputs": [
    {
     "ename": "UnsupportedOperation",
     "evalue": "can't do nonzero end-relative seeks",
     "output_type": "error",
     "traceback": [
      "\u001b[1;31m---------------------------------------------------------------------------\u001b[0m",
      "\u001b[1;31mUnsupportedOperation\u001b[0m                      Traceback (most recent call last)",
      "\u001b[1;32m~\\AppData\\Local\\Temp\\ipykernel_24596\\1273800031.py\u001b[0m in \u001b[0;36m<module>\u001b[1;34m\u001b[0m\n\u001b[1;32m----> 1\u001b[1;33m \u001b[0mf\u001b[0m\u001b[1;33m.\u001b[0m\u001b[0mseek\u001b[0m\u001b[1;33m(\u001b[0m\u001b[1;33m-\u001b[0m\u001b[1;36m3\u001b[0m\u001b[1;33m,\u001b[0m\u001b[1;36m2\u001b[0m\u001b[1;33m)\u001b[0m\u001b[1;33m\u001b[0m\u001b[1;33m\u001b[0m\u001b[0m\n\u001b[0m",
      "\u001b[1;31mUnsupportedOperation\u001b[0m: can't do nonzero end-relative seeks"
     ]
    }
   ],
   "source": [
    "f.seek(-3,2)"
   ]
  },
  {
   "cell_type": "code",
   "execution_count": 20,
   "id": "a836b500",
   "metadata": {},
   "outputs": [],
   "source": [
    "f=open(\"test2.txt\",'w')"
   ]
  },
  {
   "cell_type": "code",
   "execution_count": 21,
   "id": "d8096857",
   "metadata": {},
   "outputs": [
    {
     "data": {
      "text/plain": [
       "51"
      ]
     },
     "execution_count": 21,
     "metadata": {},
     "output_type": "execute_result"
    }
   ],
   "source": [
    "f.write(\"asadsfsak ljklasjdkj ;sjadk;kj kl;ksaldiel, kl;kasd\")"
   ]
  },
  {
   "cell_type": "code",
   "execution_count": 22,
   "id": "50aacce1",
   "metadata": {},
   "outputs": [],
   "source": [
    "f.close()"
   ]
  },
  {
   "cell_type": "code",
   "execution_count": 23,
   "id": "7e22d6cb",
   "metadata": {},
   "outputs": [],
   "source": [
    "f=open(\"test2.txt\",'r')"
   ]
  },
  {
   "cell_type": "code",
   "execution_count": 24,
   "id": "28c786e3",
   "metadata": {},
   "outputs": [
    {
     "data": {
      "text/plain": [
       "'asadsfsak ljklasjdkj ;sjadk;kj kl;ksaldiel, kl;kasd'"
      ]
     },
     "execution_count": 24,
     "metadata": {},
     "output_type": "execute_result"
    }
   ],
   "source": [
    "f.read()"
   ]
  },
  {
   "cell_type": "code",
   "execution_count": 25,
   "id": "3c33133d",
   "metadata": {},
   "outputs": [
    {
     "data": {
      "text/plain": [
       "''"
      ]
     },
     "execution_count": 25,
     "metadata": {},
     "output_type": "execute_result"
    }
   ],
   "source": [
    "f.readline()"
   ]
  },
  {
   "cell_type": "code",
   "execution_count": 26,
   "id": "8f62075d",
   "metadata": {},
   "outputs": [
    {
     "data": {
      "text/plain": [
       "''"
      ]
     },
     "execution_count": 26,
     "metadata": {},
     "output_type": "execute_result"
    }
   ],
   "source": [
    "f.readline()\n"
   ]
  },
  {
   "cell_type": "code",
   "execution_count": 27,
   "id": "92484702",
   "metadata": {},
   "outputs": [
    {
     "data": {
      "text/plain": [
       "'\\n'"
      ]
     },
     "execution_count": 27,
     "metadata": {},
     "output_type": "execute_result"
    }
   ],
   "source": [
    "f.readline()"
   ]
  },
  {
   "cell_type": "code",
   "execution_count": 28,
   "id": "bb5405e2",
   "metadata": {},
   "outputs": [],
   "source": [
    "f.close()"
   ]
  },
  {
   "cell_type": "code",
   "execution_count": 30,
   "id": "85ac322f",
   "metadata": {},
   "outputs": [],
   "source": [
    "f=open(\"test2.txt\",'r')"
   ]
  },
  {
   "cell_type": "code",
   "execution_count": 31,
   "id": "a1aabbbb",
   "metadata": {},
   "outputs": [
    {
     "name": "stdout",
     "output_type": "stream",
     "text": [
      "asadsfsak ljklasjdkj ;sjadk;kj kl;ksaldiel, kl;kasd\n",
      "\n",
      "asdas\n",
      "\n",
      "dsa\n",
      "\n",
      "dsa\n",
      "\n",
      "daasd\n",
      "\n",
      "asd\n",
      "\n",
      "asd\n",
      "\n",
      "asd\n",
      "\n",
      "asd\n",
      "\n",
      "asd\n",
      "\n",
      "asgdgd\n",
      "\n",
      "fc\n",
      "\n",
      "sdasf\n"
     ]
    }
   ],
   "source": [
    "for  i in f:\n",
    "    print(i)"
   ]
  },
  {
   "cell_type": "code",
   "execution_count": 32,
   "id": "45f35421",
   "metadata": {},
   "outputs": [],
   "source": [
    "f.close()"
   ]
  },
  {
   "cell_type": "code",
   "execution_count": 34,
   "id": "9ba1002f",
   "metadata": {},
   "outputs": [],
   "source": [
    "f=open(\"test2.txt\",'r')"
   ]
  },
  {
   "cell_type": "code",
   "execution_count": 36,
   "id": "7af1693c",
   "metadata": {},
   "outputs": [],
   "source": [
    "a=list(f)"
   ]
  },
  {
   "cell_type": "code",
   "execution_count": 37,
   "id": "e2ff1106",
   "metadata": {},
   "outputs": [
    {
     "ename": "UnsupportedOperation",
     "evalue": "not writable",
     "output_type": "error",
     "traceback": [
      "\u001b[1;31m---------------------------------------------------------------------------\u001b[0m",
      "\u001b[1;31mUnsupportedOperation\u001b[0m                      Traceback (most recent call last)",
      "\u001b[1;32m~\\AppData\\Local\\Temp\\ipykernel_24596\\200947282.py\u001b[0m in \u001b[0;36m<module>\u001b[1;34m\u001b[0m\n\u001b[1;32m----> 1\u001b[1;33m \u001b[0mf\u001b[0m\u001b[1;33m.\u001b[0m\u001b[0mwrite\u001b[0m\u001b[1;33m(\u001b[0m\u001b[1;34m\"sdasdoinknjwqenndas\"\u001b[0m\u001b[1;33m)\u001b[0m\u001b[1;33m\u001b[0m\u001b[1;33m\u001b[0m\u001b[0m\n\u001b[0m",
      "\u001b[1;31mUnsupportedOperation\u001b[0m: not writable"
     ]
    }
   ],
   "source": [
    "f.write(\"sdasdoinknjwqenndas\")"
   ]
  },
  {
   "cell_type": "code",
   "execution_count": 45,
   "id": "5ed6d0b3",
   "metadata": {},
   "outputs": [],
   "source": [
    "f=open(\"test2.txt\",\"r+\")"
   ]
  },
  {
   "cell_type": "code",
   "execution_count": 49,
   "id": "76517467",
   "metadata": {},
   "outputs": [],
   "source": [
    "f.writelines(\"adsasg okjsd dsod ijjksjka\")"
   ]
  },
  {
   "cell_type": "code",
   "execution_count": 50,
   "id": "3d2cbe93",
   "metadata": {},
   "outputs": [],
   "source": [
    "f.close()"
   ]
  },
  {
   "cell_type": "code",
   "execution_count": 48,
   "id": "491354ee",
   "metadata": {},
   "outputs": [
    {
     "data": {
      "text/plain": [
       "245"
      ]
     },
     "execution_count": 48,
     "metadata": {},
     "output_type": "execute_result"
    }
   ],
   "source": [
    "f.seek(245)"
   ]
  },
  {
   "cell_type": "code",
   "execution_count": 51,
   "id": "a4a7375c",
   "metadata": {},
   "outputs": [],
   "source": [
    "f=open(\"test2.txt\",\"r+\")"
   ]
  },
  {
   "cell_type": "code",
   "execution_count": 52,
   "id": "4455f341",
   "metadata": {},
   "outputs": [
    {
     "data": {
      "text/plain": [
       "6"
      ]
     },
     "execution_count": 52,
     "metadata": {},
     "output_type": "execute_result"
    }
   ],
   "source": [
    "f.fileno()"
   ]
  },
  {
   "cell_type": "code",
   "execution_count": 53,
   "id": "736ce86c",
   "metadata": {},
   "outputs": [
    {
     "name": "stdout",
     "output_type": "stream",
     "text": [
      "Writing test5.txt\n"
     ]
    }
   ],
   "source": [
    "%%writefile test5.txt\n",
    "my name is sudh"
   ]
  },
  {
   "cell_type": "code",
   "execution_count": 54,
   "id": "99015e15",
   "metadata": {},
   "outputs": [],
   "source": [
    "import os"
   ]
  },
  {
   "cell_type": "code",
   "execution_count": 55,
   "id": "68804faa",
   "metadata": {
    "scrolled": true
   },
   "outputs": [
    {
     "data": {
      "text/plain": [
       "'C:\\\\Users\\\\Mukhil_Rajendran'"
      ]
     },
     "execution_count": 55,
     "metadata": {},
     "output_type": "execute_result"
    }
   ],
   "source": [
    "pwd()"
   ]
  },
  {
   "cell_type": "code",
   "execution_count": 56,
   "id": "a479c3f9",
   "metadata": {},
   "outputs": [
    {
     "data": {
      "text/plain": [
       "'C:\\\\Users\\\\Mukhil_Rajendran'"
      ]
     },
     "execution_count": 56,
     "metadata": {},
     "output_type": "execute_result"
    }
   ],
   "source": [
    "os.getcwd()"
   ]
  },
  {
   "cell_type": "code",
   "execution_count": 57,
   "id": "76a0a8b6",
   "metadata": {},
   "outputs": [
    {
     "data": {
      "text/plain": [
       "['.conda',\n",
       " '.condarc',\n",
       " '.continuum',\n",
       " '.ipynb_checkpoints',\n",
       " '.ipython',\n",
       " '.jupyter',\n",
       " '3D Objects',\n",
       " 'Anaconda3',\n",
       " 'AppData',\n",
       " 'Application Data',\n",
       " 'Contacts',\n",
       " 'Cookies',\n",
       " 'Documents',\n",
       " 'Downloads',\n",
       " 'Favorites',\n",
       " 'Functions.ipynb',\n",
       " 'IntelGraphicsProfiles',\n",
       " 'Jan31 Functions2.ipynb',\n",
       " 'Links',\n",
       " 'Local Settings',\n",
       " 'Music',\n",
       " 'My Documents',\n",
       " 'NetHood',\n",
       " 'NTUSER.DAT',\n",
       " 'ntuser.dat.LOG1',\n",
       " 'ntuser.dat.LOG2',\n",
       " 'NTUSER.DAT{f54fe6ea-a9d8-11ec-970a-00155d6a84b2}.TM.blf',\n",
       " 'NTUSER.DAT{f54fe6ea-a9d8-11ec-970a-00155d6a84b2}.TMContainer00000000000000000001.regtrans-ms',\n",
       " 'NTUSER.DAT{f54fe6ea-a9d8-11ec-970a-00155d6a84b2}.TMContainer00000000000000000002.regtrans-ms',\n",
       " 'ntuser.ini',\n",
       " 'OneDrive',\n",
       " 'OneDrive - Dell Technologies',\n",
       " 'PrintHood',\n",
       " 'Recent',\n",
       " 'Saved Games',\n",
       " 'Searches',\n",
       " 'SendTo',\n",
       " 'Start Menu',\n",
       " 'Templates',\n",
       " 'test.txt',\n",
       " 'test1.txt',\n",
       " 'test2.txt',\n",
       " 'test5.txt',\n",
       " 'Untitled.ipynb',\n",
       " 'Videos']"
      ]
     },
     "execution_count": 57,
     "metadata": {},
     "output_type": "execute_result"
    }
   ],
   "source": [
    "os.listdir()"
   ]
  },
  {
   "cell_type": "code",
   "execution_count": 60,
   "id": "563364d3",
   "metadata": {},
   "outputs": [
    {
     "data": {
      "text/plain": [
       "['.conda',\n",
       " '.condarc',\n",
       " '.continuum',\n",
       " '.ipynb_checkpoints',\n",
       " '.ipython',\n",
       " '.jupyter',\n",
       " '3D Objects',\n",
       " 'Anaconda3',\n",
       " 'AppData',\n",
       " 'Application Data',\n",
       " 'Contacts',\n",
       " 'Cookies',\n",
       " 'Documents',\n",
       " 'Downloads',\n",
       " 'Favorites',\n",
       " 'Functions.ipynb',\n",
       " 'IntelGraphicsProfiles',\n",
       " 'Jan31 Functions2.ipynb',\n",
       " 'Links',\n",
       " 'Local Settings',\n",
       " 'Music',\n",
       " 'My Documents',\n",
       " 'NetHood',\n",
       " 'NTUSER.DAT',\n",
       " 'ntuser.dat.LOG1',\n",
       " 'ntuser.dat.LOG2',\n",
       " 'NTUSER.DAT{f54fe6ea-a9d8-11ec-970a-00155d6a84b2}.TM.blf',\n",
       " 'NTUSER.DAT{f54fe6ea-a9d8-11ec-970a-00155d6a84b2}.TMContainer00000000000000000001.regtrans-ms',\n",
       " 'NTUSER.DAT{f54fe6ea-a9d8-11ec-970a-00155d6a84b2}.TMContainer00000000000000000002.regtrans-ms',\n",
       " 'ntuser.ini',\n",
       " 'OneDrive',\n",
       " 'OneDrive - Dell Technologies',\n",
       " 'PrintHood',\n",
       " 'Recent',\n",
       " 'Saved Games',\n",
       " 'Searches',\n",
       " 'SendTo',\n",
       " 'Start Menu',\n",
       " 'Templates',\n",
       " 'test.txt',\n",
       " 'test1.txt',\n",
       " 'test2.txt',\n",
       " 'test5.txt',\n",
       " 'Untitled.ipynb',\n",
       " 'Videos']"
      ]
     },
     "execution_count": 60,
     "metadata": {},
     "output_type": "execute_result"
    }
   ],
   "source": [
    "os.listdir(\"C:\\\\Users\\\\Mukhil_Rajendran\")"
   ]
  },
  {
   "cell_type": "code",
   "execution_count": 61,
   "id": "e3bb3d0d",
   "metadata": {},
   "outputs": [
    {
     "data": {
      "text/plain": [
       "'C:\\\\Users\\\\Mukhil_Rajendran'"
      ]
     },
     "execution_count": 61,
     "metadata": {},
     "output_type": "execute_result"
    }
   ],
   "source": [
    "pwd()"
   ]
  },
  {
   "cell_type": "code",
   "execution_count": 62,
   "id": "3700036a",
   "metadata": {},
   "outputs": [
    {
     "data": {
      "text/plain": [
       "'C:\\\\Users\\\\Mukhil_Rajendran'"
      ]
     },
     "execution_count": 62,
     "metadata": {},
     "output_type": "execute_result"
    }
   ],
   "source": [
    "os.getcwd()"
   ]
  },
  {
   "cell_type": "code",
   "execution_count": 63,
   "id": "1b6e686d",
   "metadata": {},
   "outputs": [
    {
     "ename": "TypeError",
     "evalue": "chdir() missing required argument 'path' (pos 1)",
     "output_type": "error",
     "traceback": [
      "\u001b[1;31m---------------------------------------------------------------------------\u001b[0m",
      "\u001b[1;31mTypeError\u001b[0m                                 Traceback (most recent call last)",
      "\u001b[1;32m~\\AppData\\Local\\Temp\\ipykernel_24596\\2621306050.py\u001b[0m in \u001b[0;36m<module>\u001b[1;34m\u001b[0m\n\u001b[1;32m----> 1\u001b[1;33m \u001b[0mos\u001b[0m\u001b[1;33m.\u001b[0m\u001b[0mchdir\u001b[0m\u001b[1;33m(\u001b[0m\u001b[1;33m)\u001b[0m\u001b[1;33m\u001b[0m\u001b[1;33m\u001b[0m\u001b[0m\n\u001b[0m",
      "\u001b[1;31mTypeError\u001b[0m: chdir() missing required argument 'path' (pos 1)"
     ]
    }
   ],
   "source": [
    "os.chdir()"
   ]
  },
  {
   "cell_type": "code",
   "execution_count": 64,
   "id": "eca51ca2",
   "metadata": {},
   "outputs": [
    {
     "data": {
      "text/plain": [
       "['.conda',\n",
       " '.condarc',\n",
       " '.continuum',\n",
       " '.ipynb_checkpoints',\n",
       " '.ipython',\n",
       " '.jupyter',\n",
       " '3D Objects',\n",
       " 'Anaconda3',\n",
       " 'AppData',\n",
       " 'Application Data',\n",
       " 'Contacts',\n",
       " 'Cookies',\n",
       " 'Documents',\n",
       " 'Downloads',\n",
       " 'Favorites',\n",
       " 'Functions.ipynb',\n",
       " 'IntelGraphicsProfiles',\n",
       " 'Jan31 Functions2.ipynb',\n",
       " 'Links',\n",
       " 'Local Settings',\n",
       " 'Music',\n",
       " 'My Documents',\n",
       " 'NetHood',\n",
       " 'NTUSER.DAT',\n",
       " 'ntuser.dat.LOG1',\n",
       " 'ntuser.dat.LOG2',\n",
       " 'NTUSER.DAT{f54fe6ea-a9d8-11ec-970a-00155d6a84b2}.TM.blf',\n",
       " 'NTUSER.DAT{f54fe6ea-a9d8-11ec-970a-00155d6a84b2}.TMContainer00000000000000000001.regtrans-ms',\n",
       " 'NTUSER.DAT{f54fe6ea-a9d8-11ec-970a-00155d6a84b2}.TMContainer00000000000000000002.regtrans-ms',\n",
       " 'ntuser.ini',\n",
       " 'OneDrive',\n",
       " 'OneDrive - Dell Technologies',\n",
       " 'PrintHood',\n",
       " 'Recent',\n",
       " 'Saved Games',\n",
       " 'Searches',\n",
       " 'SendTo',\n",
       " 'Start Menu',\n",
       " 'Templates',\n",
       " 'test.txt',\n",
       " 'test1.txt',\n",
       " 'test2.txt',\n",
       " 'test5.txt',\n",
       " 'Untitled.ipynb',\n",
       " 'Videos']"
      ]
     },
     "execution_count": 64,
     "metadata": {},
     "output_type": "execute_result"
    }
   ],
   "source": [
    "os.listdir()"
   ]
  },
  {
   "cell_type": "code",
   "execution_count": 1,
   "id": "726577fb",
   "metadata": {},
   "outputs": [
    {
     "ename": "SyntaxError",
     "evalue": "invalid syntax (3211560891.py, line 1)",
     "output_type": "error",
     "traceback": [
      "\u001b[1;36m  File \u001b[1;32m\"C:\\Users\\Mukhil_Rajendran\\AppData\\Local\\Temp\\ipykernel_10212\\3211560891.py\"\u001b[1;36m, line \u001b[1;32m1\u001b[0m\n\u001b[1;33m    if test.txt in os\u001b[0m\n\u001b[1;37m                     ^\u001b[0m\n\u001b[1;31mSyntaxError\u001b[0m\u001b[1;31m:\u001b[0m invalid syntax\n"
     ]
    }
   ],
   "source": [
    "if test.txt in os"
   ]
  },
  {
   "cell_type": "code",
   "execution_count": 2,
   "id": "7255143f",
   "metadata": {},
   "outputs": [
    {
     "ename": "NameError",
     "evalue": "name 'os' is not defined",
     "output_type": "error",
     "traceback": [
      "\u001b[1;31m---------------------------------------------------------------------------\u001b[0m",
      "\u001b[1;31mNameError\u001b[0m                                 Traceback (most recent call last)",
      "\u001b[1;32m~\\AppData\\Local\\Temp\\ipykernel_10212\\1628612066.py\u001b[0m in \u001b[0;36m<module>\u001b[1;34m\u001b[0m\n\u001b[1;32m----> 1\u001b[1;33m \u001b[0mos\u001b[0m\u001b[1;33m.\u001b[0m\u001b[0mrmdir\u001b[0m\u001b[1;33m(\u001b[0m\u001b[1;34m\"sudh\"\u001b[0m\u001b[1;33m)\u001b[0m\u001b[1;33m\u001b[0m\u001b[1;33m\u001b[0m\u001b[0m\n\u001b[0m",
      "\u001b[1;31mNameError\u001b[0m: name 'os' is not defined"
     ]
    }
   ],
   "source": [
    "os.rmdir(\"sudh\")"
   ]
  },
  {
   "cell_type": "code",
   "execution_count": 3,
   "id": "7acae824",
   "metadata": {},
   "outputs": [
    {
     "ename": "FileNotFoundError",
     "evalue": "[Errno 2] No such file or directory: 'E:\\\\downloads\\\\new_dir'",
     "output_type": "error",
     "traceback": [
      "\u001b[1;31m---------------------------------------------------------------------------\u001b[0m",
      "\u001b[1;31mFileNotFoundError\u001b[0m                         Traceback (most recent call last)",
      "\u001b[1;32m~\\Anaconda3\\lib\\shutil.py\u001b[0m in \u001b[0;36mmove\u001b[1;34m(src, dst, copy_function)\u001b[0m\n\u001b[0;32m    824\u001b[0m     \u001b[1;32mtry\u001b[0m\u001b[1;33m:\u001b[0m\u001b[1;33m\u001b[0m\u001b[1;33m\u001b[0m\u001b[0m\n\u001b[1;32m--> 825\u001b[1;33m         \u001b[0mos\u001b[0m\u001b[1;33m.\u001b[0m\u001b[0mrename\u001b[0m\u001b[1;33m(\u001b[0m\u001b[0msrc\u001b[0m\u001b[1;33m,\u001b[0m \u001b[0mreal_dst\u001b[0m\u001b[1;33m)\u001b[0m\u001b[1;33m\u001b[0m\u001b[1;33m\u001b[0m\u001b[0m\n\u001b[0m\u001b[0;32m    826\u001b[0m     \u001b[1;32mexcept\u001b[0m \u001b[0mOSError\u001b[0m\u001b[1;33m:\u001b[0m\u001b[1;33m\u001b[0m\u001b[1;33m\u001b[0m\u001b[0m\n",
      "\u001b[1;31mFileNotFoundError\u001b[0m: [WinError 53] The network path was not found: 'E:\\\\downloads\\\\new_dir' -> 'e:\\\\downloads\\\\new'",
      "\nDuring handling of the above exception, another exception occurred:\n",
      "\u001b[1;31mFileNotFoundError\u001b[0m                         Traceback (most recent call last)",
      "\u001b[1;32m~\\AppData\\Local\\Temp\\ipykernel_10212\\3737426707.py\u001b[0m in \u001b[0;36m<module>\u001b[1;34m\u001b[0m\n\u001b[0;32m      1\u001b[0m \u001b[1;32mimport\u001b[0m \u001b[0mshutil\u001b[0m\u001b[1;33m\u001b[0m\u001b[1;33m\u001b[0m\u001b[0m\n\u001b[0;32m      2\u001b[0m \u001b[1;33m\u001b[0m\u001b[0m\n\u001b[1;32m----> 3\u001b[1;33m \u001b[0mshutil\u001b[0m\u001b[1;33m.\u001b[0m\u001b[0mmove\u001b[0m\u001b[1;33m(\u001b[0m\u001b[1;34m\"E:\\\\downloads\\\\new_dir\"\u001b[0m\u001b[1;33m,\u001b[0m\u001b[1;34m\"e:\\\\downloads\\\\new\"\u001b[0m\u001b[1;33m)\u001b[0m\u001b[1;33m\u001b[0m\u001b[1;33m\u001b[0m\u001b[0m\n\u001b[0m",
      "\u001b[1;32m~\\Anaconda3\\lib\\shutil.py\u001b[0m in \u001b[0;36mmove\u001b[1;34m(src, dst, copy_function)\u001b[0m\n\u001b[0;32m    843\u001b[0m             \u001b[0mrmtree\u001b[0m\u001b[1;33m(\u001b[0m\u001b[0msrc\u001b[0m\u001b[1;33m)\u001b[0m\u001b[1;33m\u001b[0m\u001b[1;33m\u001b[0m\u001b[0m\n\u001b[0;32m    844\u001b[0m         \u001b[1;32melse\u001b[0m\u001b[1;33m:\u001b[0m\u001b[1;33m\u001b[0m\u001b[1;33m\u001b[0m\u001b[0m\n\u001b[1;32m--> 845\u001b[1;33m             \u001b[0mcopy_function\u001b[0m\u001b[1;33m(\u001b[0m\u001b[0msrc\u001b[0m\u001b[1;33m,\u001b[0m \u001b[0mreal_dst\u001b[0m\u001b[1;33m)\u001b[0m\u001b[1;33m\u001b[0m\u001b[1;33m\u001b[0m\u001b[0m\n\u001b[0m\u001b[0;32m    846\u001b[0m             \u001b[0mos\u001b[0m\u001b[1;33m.\u001b[0m\u001b[0munlink\u001b[0m\u001b[1;33m(\u001b[0m\u001b[0msrc\u001b[0m\u001b[1;33m)\u001b[0m\u001b[1;33m\u001b[0m\u001b[1;33m\u001b[0m\u001b[0m\n\u001b[0;32m    847\u001b[0m     \u001b[1;32mreturn\u001b[0m \u001b[0mreal_dst\u001b[0m\u001b[1;33m\u001b[0m\u001b[1;33m\u001b[0m\u001b[0m\n",
      "\u001b[1;32m~\\Anaconda3\\lib\\shutil.py\u001b[0m in \u001b[0;36mcopy2\u001b[1;34m(src, dst, follow_symlinks)\u001b[0m\n\u001b[0;32m    442\u001b[0m     \u001b[1;32mif\u001b[0m \u001b[0mos\u001b[0m\u001b[1;33m.\u001b[0m\u001b[0mpath\u001b[0m\u001b[1;33m.\u001b[0m\u001b[0misdir\u001b[0m\u001b[1;33m(\u001b[0m\u001b[0mdst\u001b[0m\u001b[1;33m)\u001b[0m\u001b[1;33m:\u001b[0m\u001b[1;33m\u001b[0m\u001b[1;33m\u001b[0m\u001b[0m\n\u001b[0;32m    443\u001b[0m         \u001b[0mdst\u001b[0m \u001b[1;33m=\u001b[0m \u001b[0mos\u001b[0m\u001b[1;33m.\u001b[0m\u001b[0mpath\u001b[0m\u001b[1;33m.\u001b[0m\u001b[0mjoin\u001b[0m\u001b[1;33m(\u001b[0m\u001b[0mdst\u001b[0m\u001b[1;33m,\u001b[0m \u001b[0mos\u001b[0m\u001b[1;33m.\u001b[0m\u001b[0mpath\u001b[0m\u001b[1;33m.\u001b[0m\u001b[0mbasename\u001b[0m\u001b[1;33m(\u001b[0m\u001b[0msrc\u001b[0m\u001b[1;33m)\u001b[0m\u001b[1;33m)\u001b[0m\u001b[1;33m\u001b[0m\u001b[1;33m\u001b[0m\u001b[0m\n\u001b[1;32m--> 444\u001b[1;33m     \u001b[0mcopyfile\u001b[0m\u001b[1;33m(\u001b[0m\u001b[0msrc\u001b[0m\u001b[1;33m,\u001b[0m \u001b[0mdst\u001b[0m\u001b[1;33m,\u001b[0m \u001b[0mfollow_symlinks\u001b[0m\u001b[1;33m=\u001b[0m\u001b[0mfollow_symlinks\u001b[0m\u001b[1;33m)\u001b[0m\u001b[1;33m\u001b[0m\u001b[1;33m\u001b[0m\u001b[0m\n\u001b[0m\u001b[0;32m    445\u001b[0m     \u001b[0mcopystat\u001b[0m\u001b[1;33m(\u001b[0m\u001b[0msrc\u001b[0m\u001b[1;33m,\u001b[0m \u001b[0mdst\u001b[0m\u001b[1;33m,\u001b[0m \u001b[0mfollow_symlinks\u001b[0m\u001b[1;33m=\u001b[0m\u001b[0mfollow_symlinks\u001b[0m\u001b[1;33m)\u001b[0m\u001b[1;33m\u001b[0m\u001b[1;33m\u001b[0m\u001b[0m\n\u001b[0;32m    446\u001b[0m     \u001b[1;32mreturn\u001b[0m \u001b[0mdst\u001b[0m\u001b[1;33m\u001b[0m\u001b[1;33m\u001b[0m\u001b[0m\n",
      "\u001b[1;32m~\\Anaconda3\\lib\\shutil.py\u001b[0m in \u001b[0;36mcopyfile\u001b[1;34m(src, dst, follow_symlinks)\u001b[0m\n\u001b[0;32m    262\u001b[0m         \u001b[0mos\u001b[0m\u001b[1;33m.\u001b[0m\u001b[0msymlink\u001b[0m\u001b[1;33m(\u001b[0m\u001b[0mos\u001b[0m\u001b[1;33m.\u001b[0m\u001b[0mreadlink\u001b[0m\u001b[1;33m(\u001b[0m\u001b[0msrc\u001b[0m\u001b[1;33m)\u001b[0m\u001b[1;33m,\u001b[0m \u001b[0mdst\u001b[0m\u001b[1;33m)\u001b[0m\u001b[1;33m\u001b[0m\u001b[1;33m\u001b[0m\u001b[0m\n\u001b[0;32m    263\u001b[0m     \u001b[1;32melse\u001b[0m\u001b[1;33m:\u001b[0m\u001b[1;33m\u001b[0m\u001b[1;33m\u001b[0m\u001b[0m\n\u001b[1;32m--> 264\u001b[1;33m         \u001b[1;32mwith\u001b[0m \u001b[0mopen\u001b[0m\u001b[1;33m(\u001b[0m\u001b[0msrc\u001b[0m\u001b[1;33m,\u001b[0m \u001b[1;34m'rb'\u001b[0m\u001b[1;33m)\u001b[0m \u001b[1;32mas\u001b[0m \u001b[0mfsrc\u001b[0m\u001b[1;33m:\u001b[0m\u001b[1;33m\u001b[0m\u001b[1;33m\u001b[0m\u001b[0m\n\u001b[0m\u001b[0;32m    265\u001b[0m             \u001b[1;32mtry\u001b[0m\u001b[1;33m:\u001b[0m\u001b[1;33m\u001b[0m\u001b[1;33m\u001b[0m\u001b[0m\n\u001b[0;32m    266\u001b[0m                 \u001b[1;32mwith\u001b[0m \u001b[0mopen\u001b[0m\u001b[1;33m(\u001b[0m\u001b[0mdst\u001b[0m\u001b[1;33m,\u001b[0m \u001b[1;34m'wb'\u001b[0m\u001b[1;33m)\u001b[0m \u001b[1;32mas\u001b[0m \u001b[0mfdst\u001b[0m\u001b[1;33m:\u001b[0m\u001b[1;33m\u001b[0m\u001b[1;33m\u001b[0m\u001b[0m\n",
      "\u001b[1;31mFileNotFoundError\u001b[0m: [Errno 2] No such file or directory: 'E:\\\\downloads\\\\new_dir'"
     ]
    }
   ],
   "source": [
    "import shutil\n",
    "\n",
    "shutil.move(\"E:\\\\downloads\\\\new_dir\",\"e:\\\\downloads\\\\new\")"
   ]
  },
  {
   "cell_type": "code",
   "execution_count": 4,
   "id": "c7b622ee",
   "metadata": {},
   "outputs": [],
   "source": [
    "### create a new directory\n",
    "###create a txt file and write some data all txt at \n",
    "### a time\n",
    "### Read all the directory or file and printin console \n",
    "### hold all the data in the list\n",
    "### Write all the data in the new file from list\n",
    "### Keep only the new file in present directory and \n",
    "### move the old file in new directory"
   ]
  },
  {
   "cell_type": "code",
   "execution_count": 2,
   "id": "7b34b593",
   "metadata": {},
   "outputs": [],
   "source": [
    "import os\n",
    "os.mkdir(\"mukhil\")\n",
    "os.chdir(os.getcwd()+\"\\mukhil\")\n",
    "for i in range(10):\n",
    "    file=\"test.doc\""
   ]
  },
  {
   "cell_type": "code",
   "execution_count": null,
   "id": "b8e089de",
   "metadata": {},
   "outputs": [],
   "source": []
  }
 ],
 "metadata": {
  "kernelspec": {
   "display_name": "Python 3 (ipykernel)",
   "language": "python",
   "name": "python3"
  },
  "language_info": {
   "codemirror_mode": {
    "name": "ipython",
    "version": 3
   },
   "file_extension": ".py",
   "mimetype": "text/x-python",
   "name": "python",
   "nbconvert_exporter": "python",
   "pygments_lexer": "ipython3",
   "version": "3.9.13"
  }
 },
 "nbformat": 4,
 "nbformat_minor": 5
}
